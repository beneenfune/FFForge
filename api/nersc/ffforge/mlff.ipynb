{
 "cells": [
  {
   "cell_type": "markdown",
   "id": "2bb03835",
   "metadata": {},
   "source": [
    "# FFForge Workflow Development Notebook"
   ]
  },
  {
   "cell_type": "code",
   "execution_count": 22,
   "id": "2612260b-ec3c-486f-9f49-cb651ca46237",
   "metadata": {
    "tags": []
   },
   "outputs": [],
   "source": [
    "# Required imports for development\n",
    "from jobflow import Flow, Response, job, Maker, Job\n",
    "from jobflow.utils.graph import to_mermaid\n",
    "from jobflow.managers.local import run_locally\n",
    "from jobflow.managers.fireworks import flow_to_workflow\n",
    "\n",
    "from pymatgen.core import Structure, Lattice\n",
    "from atomate2.vasp.jobs.core import StaticMaker\n",
    "from pymatgen.io.cif import CifParser\n",
    "from jinja2 import Template\n",
    "from pathlib import Path\n",
    "from collections import defaultdict\n",
    "from dataclasses import field\n",
    "from ase import Atoms\n",
    "from openbabel import openbabel\n",
    "\n",
    "import os\n",
    "import pytest\n",
    "import json\n",
    "\n",
    "from jobflow.managers.fireworks import flow_to_workflow\n",
    "from fireworks import LaunchPad, FWorker\n",
    "from fireworks.queue.queue_launcher import launch_rocket_to_queue\n",
    "from fireworks.core.rocket_launcher import launch_rocket\n",
    "from fireworks.utilities.fw_serializers import load_object_from_file"
   ]
  },
  {
   "cell_type": "code",
   "execution_count": 23,
   "id": "def358bc-967d-4c9a-8268-3400657fa035",
   "metadata": {},
   "outputs": [
    {
     "name": "stdout",
     "output_type": "stream",
     "text": [
      "/pscratch/sd/b/bfune/FFForge/wf_development_runs/5_13/launch_rocket_to_queue_run\n"
     ]
    }
   ],
   "source": [
    "# Ensure you're in ROOT_DIR/src/FFForge/api/nersc/ffforge by checking pwd\n",
    "# Note: ROOT_DIR is PSCRATCH_DIR/FFForge\n",
    "!pwd"
   ]
  },
  {
   "cell_type": "code",
   "execution_count": 24,
   "id": "0b29b5b8",
   "metadata": {},
   "outputs": [],
   "source": [
    "# Define calc_dir in ROOT_DIR/wf_development_runs\n",
    "calc_dir = \"/pscratch/sd/b/bfune/FFForge/wf_development_runs\""
   ]
  },
  {
   "cell_type": "markdown",
   "id": "544481d3-7d38-40da-b294-75a244e07638",
   "metadata": {
    "tags": []
   },
   "source": [
    "## Generate Job"
   ]
  },
  {
   "cell_type": "markdown",
   "id": "3d9b21f3",
   "metadata": {},
   "source": [
    "Code to develop the GENERATE job of the workflow"
   ]
  },
  {
   "cell_type": "code",
   "execution_count": 25,
   "id": "8d729811-bc4f-43d8-8274-f7750de26a72",
   "metadata": {
    "tags": []
   },
   "outputs": [],
   "source": [
    "# different generators -> error handlers try execpt raiseerror\n",
    "@job # TODO: make generate_rattled // generate_slab\n",
    "def generate_rattled(\n",
    "    structure_to_rattle: str | Path,\n",
    "    purpose: str = \"Simple Equilibration\",\n",
    "    num_structures: int = 20,\n",
    ") -> list[Structure]:\n",
    "    \"\"\"Generate the rattled structures for the training set.\n",
    "\n",
    "    Parameters\n",
    "    ----------\n",
    "    structure_to_rattle: str | Path\n",
    "        The structure to rattled as a path\n",
    "    purpose: str\n",
    "        The purpose of generating the MLFF (TODO: list the allowed options). Default is Simple Equilibration\n",
    "    num: int\n",
    "        The number of rattled structures to generate.\n",
    "\n",
    "    Returns\n",
    "    -------\n",
    "    rattled_strucutures: list[Structure]\n",
    "        Rattled structures.\n",
    "    \"\"\"\n",
    "\n",
    "    # TODO implement logic for purpose-dependent conditions:\n",
    "        # if purpose=='DMA' -> ? -> structure = Structure object\n",
    "        # if purpose=='Electrode depletion' -> ? -> structure = Structure object\n",
    "        # if purpose=='Electrode analysis' -> ? -> structure = Structure object\n",
    "        # if purpose=='Adsorption analysis' -> ? -> structure = Structure object\n",
    "        # Psuedocode logic:\n",
    "            # if not md_before (purpose means no MD needed before dft/ if no MD needed): \n",
    "            #   openbabel (convert current structure file to cif bc you dont have to worry about bonds - read documentation/chat)\n",
    "            #   structure = Structure.from_str(open(structure_filename).read(), fmt=\"cif\")\n",
    "    \n",
    "    rattled_structures = []\n",
    "    # If purpose=='Simple equilibration' -> no MD needed -> openbabel -> structure = Structure\n",
    "    if purpose == \"Simple equilibration\": \n",
    "        try:\n",
    "            structure_to_rattle = Path(structure_to_rattle)  \n",
    "\n",
    "            \n",
    "            if structure_to_rattle.suffix[1:] != \"cif\":\n",
    "                # Convert the input file to CIF format using Open Babel\n",
    "                obConversion = openbabel.OBConversion()\n",
    "                obConversion.SetInAndOutFormats(structure_to_rattle.suffix[1:], \"cif\")  # Extract format from file extension\n",
    "\n",
    "                # Read structure file to object\n",
    "                mol = openbabel.OBMol()\n",
    "                if not obConversion.ReadFile(mol, str(structure_to_rattle)):\n",
    "                    raise ValueError(f\"Could not read structure file: {structure_to_rattle}\")\n",
    "\n",
    "                # Write structure file as cif file\n",
    "                cif_path = structure_to_rattle.with_suffix(\".cif\")\n",
    "                if not obConversion.WriteFile(mol, str(cif_path)):\n",
    "                    raise ValueError(f\"Could not convert {structure_to_rattle} to CIF format\")\n",
    "\n",
    "                # Read cif structure file\n",
    "                structure = Structure.from_str(open(str(structure_to_rattle)).read(), fmt=\"cif\")\n",
    "\n",
    "                \n",
    "                print('structure_to_rattle path is'+str(structure_to_rattle))\n",
    "                print('cif path is'+str(cif_path))\n",
    "                \n",
    "                # cif_filename = os.path.basename(cif_path)\n",
    "                # print('cif_filename is '+str(cif_filename))\n",
    "                # print('curr dir is '+os.getcwd())\n",
    "    \n",
    "                \n",
    "                # Read the CIF file into a pymatgen Structure object\n",
    "                # structure = Structure.from_file(str(cif_path))\n",
    "                # parser = CifParser(cif_path)\n",
    "                # print(\"type of parser is\"+type(parser))\n",
    "                # \n",
    "                # structure = parser.parse_structures(primitive=True)[0]\n",
    "                #structure = Structure.from_file(str(cif_path), fmt=\"cif\")\n",
    "    \n",
    "                \n",
    "                # # Generate rattled structures\n",
    "                # for i in range(num_structures):\n",
    "                #     # Determine standard deviation based on index\n",
    "                #     std_dev = 0.005 if i < num_structures // 2 else 0.01\n",
    "                #     # Create ASE Atoms object from pymatgen structure\n",
    "                #     element_symbols = [site.specie.symbol for site in structure]\n",
    "                #     atom_positions = structure.cart_coords\n",
    "                #     atoms = Atoms(symbols=element_symbols, positions=atom_positions)\n",
    "                #     # Apply random displacements using ASE's built-in 'rattle' function\n",
    "                #     atoms.rattle(stdev=std_dev)\n",
    "                #     # Convert back to pymatgen structure\n",
    "                #     rattled_structure = Structure(\n",
    "                #         lattice=structure.lattice,\n",
    "                #         species=element_symbols,\n",
    "                #         coords=atoms.get_positions(),\n",
    "                #         site_properties=structure.site_properties,\n",
    "                #     )\n",
    "                #     rattled_structures.append(rattled_structure)\n",
    "                # TODO: remove and uncomment^\n",
    "            else:\n",
    "                # Convert cif file path to Structure object\n",
    "                structure = Structure.from_str(open(str(structure_to_rattle)).read(), fmt=\"cif\")\n",
    "            rattled_structures.append(structure)\n",
    "            rattled_structures.append(structure)\n",
    "            rattled_structures.append(structure)\n",
    "                \n",
    "        except Exception as e:\n",
    "            print(f\"An error occurred while generating rattled structures for simple equilibration: {e}\")\n",
    "            # Optionally, raise the error if you want it to halt the process\n",
    "            raise e\n",
    "    print(rattled_structures)\n",
    "    return rattled_structures"
   ]
  },
  {
   "cell_type": "markdown",
   "id": "eada6b3c-8926-4d3b-ba86-19e6bc90c1c4",
   "metadata": {
    "tags": []
   },
   "source": [
    "#### Generate Tests"
   ]
  },
  {
   "cell_type": "code",
   "execution_count": 26,
   "id": "5620aabc-7617-4430-8aae-9a422d0b1cfa",
   "metadata": {
    "tags": []
   },
   "outputs": [],
   "source": [
    "# Create mock structure for input\n",
    "def mock_scf_structure():\n",
    "    coords = [[0, 0, 0], [0.75, 0.5, 0.75]]\n",
    "    lattice = Lattice.from_parameters(a=3.84, b=3.84, c=3.84, alpha=120, beta=90, gamma=60)\n",
    "    struct = Structure(lattice, [\"Si\", \"Si\"], coords)\n",
    "    return struct"
   ]
  },
  {
   "cell_type": "code",
   "execution_count": 27,
   "id": "a4fde854-9ef7-4cff-81b1-e89ca3a89ebc",
   "metadata": {},
   "outputs": [],
   "source": [
    "# Create mock structure object\n",
    "mock_structure=mock_scf_structure()"
   ]
  },
  {
   "cell_type": "code",
   "execution_count": 28,
   "id": "bf34aa12-53c2-49be-905c-3e1aff0584bd",
   "metadata": {
    "tags": []
   },
   "outputs": [
    {
     "data": {
      "image/png": "[encoded data removed]",
      "text/plain": [
       "<Figure size 300x300 with 1 Axes>"
      ]
     },
     "metadata": {},
     "output_type": "display_data"
    },
    {
     "name": "stdout",
     "output_type": "stream",
     "text": [
      "flowchart TD\n",
      "    46a8ef29-09f2-4376-8787-8fdd26da382c(generate_rattled)\n"
     ]
    }
   ],
   "source": [
    "# Create the mock GENERATE job\n",
    "test_structures_job = generate_rattled(mock_structure, num_structures=3, purpose=\"Simple equilibration\")  \n",
    "flow = Flow([test_structures_job])\n",
    "flow.draw_graph(figsize=(3, 3)).show()\n",
    "print(to_mermaid(flow))"
   ]
  },
  {
   "cell_type": "code",
   "execution_count": 29,
   "id": "eed2fe66-6f0e-43fe-9aa4-9f82b35e1f06",
   "metadata": {
    "tags": []
   },
   "outputs": [
    {
     "name": "stdout",
     "output_type": "stream",
     "text": [
      "2025-05-13 15:06:11,716 INFO Added a workflow. id_map: {-2: 113}\n"
     ]
    },
    {
     "data": {
      "text/plain": [
       "{-2: 113}"
      ]
     },
     "execution_count": 29,
     "metadata": {},
     "output_type": "execute_result"
    }
   ],
   "source": [
    "# Convert flow to workflow (wf) and load to Launchpad\n",
    "from fireworks import LaunchPad\n",
    "from jobflow.managers.fireworks import flow_to_workflow\n",
    "\n",
    "wf = flow_to_workflow(flow)\n",
    "lpad = LaunchPad.auto_load()\n",
    "lpad.add_wf(wf)"
   ]
  },
  {
   "cell_type": "code",
   "execution_count": 30,
   "id": "8ebf27f0-d8f3-4bf5-a961-57f3b87fab35",
   "metadata": {
    "tags": []
   },
   "outputs": [
    {
     "name": "stdout",
     "output_type": "stream",
     "text": [
      "2025-05-13 15:06:11,726 INFO Launching Rocket\n",
      "2025-05-13 15:06:11,767 INFO RUNNING fw_id: 113 in directory: /pscratch/sd/b/bfune/FFForge/wf_development_runs/5_13/launch_rocket_to_queue_run\n",
      "2025-05-13 15:06:11,776 INFO Task started: {{jobflow.managers.fireworks.JobFiretask}}.\n",
      "2025-05-13 15:06:11,777 INFO Starting job - generate_rattled (46a8ef29-09f2-4376-8787-8fdd26da382c)\n",
      "An error occurred while generating rattled structures for simple equilibration: expected str, bytes or os.PathLike object, not Structure\n",
      "2025-05-13 15:06:11,802 INFO Rocket finished\n"
     ]
    },
    {
     "name": "stderr",
     "output_type": "stream",
     "text": [
      "Traceback (most recent call last):\n",
      "  File \"/global/homes/b/bfune/.conda/envs/atomate2/lib/python3.10/site-packages/fireworks/core/rocket.py\", line 261, in run\n",
      "    m_action = t.run_task(my_spec)\n",
      "  File \"/global/homes/b/bfune/.conda/envs/atomate2/lib/python3.10/site-packages/jobflow/managers/fireworks.py\", line 177, in run_task\n",
      "    response = job.run(store=store)\n",
      "  File \"/global/homes/b/bfune/.conda/envs/atomate2/lib/python3.10/site-packages/jobflow/core/job.py\", line 604, in run\n",
      "    response = function(*self.function_args, **self.function_kwargs)\n",
      "  File \"/tmp/ipykernel_298308/1351164196.py\", line 107, in generate_rattled\n",
      "    raise e\n",
      "  File \"/tmp/ipykernel_298308/1351164196.py\", line 39, in generate_rattled\n",
      "    structure_to_rattle = Path(structure_to_rattle)\n",
      "  File \"/global/homes/b/bfune/.conda/envs/atomate2/lib/python3.10/pathlib.py\", line 960, in __new__\n",
      "    self = cls._from_parts(args)\n",
      "  File \"/global/homes/b/bfune/.conda/envs/atomate2/lib/python3.10/pathlib.py\", line 594, in _from_parts\n",
      "    drv, root, parts = self._parse_args(args)\n",
      "  File \"/global/homes/b/bfune/.conda/envs/atomate2/lib/python3.10/pathlib.py\", line 578, in _parse_args\n",
      "    a = os.fspath(a)\n",
      "TypeError: expected str, bytes or os.PathLike object, not Structure\n"
     ]
    }
   ],
   "source": [
    "# Launch the rocket using login node\n",
    "from fireworks.core.rocket_launcher import launch_rocket\n",
    "response = launch_rocket(lpad)"
   ]
  },
  {
   "cell_type": "code",
   "execution_count": 31,
   "id": "136bca97-966b-406c-9b21-36361a8da1ff",
   "metadata": {
    "tags": []
   },
   "outputs": [
    {
     "name": "stdout",
     "output_type": "stream",
     "text": [
      "2025-05-13 15:06:11,810 INFO Started executing jobs locally\n",
      "2025-05-13 15:06:11,812 INFO Starting job - generate_rattled (46a8ef29-09f2-4376-8787-8fdd26da382c)\n",
      "An error occurred while generating rattled structures for simple equilibration: expected str, bytes or os.PathLike object, not Structure\n",
      "2025-05-13 15:06:11,814 INFO generate_rattled failed with exception:\n",
      "Traceback (most recent call last):\n",
      "  File \"/global/homes/b/bfune/.conda/envs/atomate2/lib/python3.10/site-packages/jobflow/managers/local.py\", line 117, in _run_job\n",
      "    response = job.run(store=store)\n",
      "  File \"/global/homes/b/bfune/.conda/envs/atomate2/lib/python3.10/site-packages/jobflow/core/job.py\", line 604, in run\n",
      "    response = function(*self.function_args, **self.function_kwargs)\n",
      "  File \"/tmp/ipykernel_298308/1351164196.py\", line 107, in generate_rattled\n",
      "    raise e\n",
      "  File \"/tmp/ipykernel_298308/1351164196.py\", line 39, in generate_rattled\n",
      "    structure_to_rattle = Path(structure_to_rattle)\n",
      "  File \"/global/homes/b/bfune/.conda/envs/atomate2/lib/python3.10/pathlib.py\", line 960, in __new__\n",
      "    self = cls._from_parts(args)\n",
      "  File \"/global/homes/b/bfune/.conda/envs/atomate2/lib/python3.10/pathlib.py\", line 594, in _from_parts\n",
      "    drv, root, parts = self._parse_args(args)\n",
      "  File \"/global/homes/b/bfune/.conda/envs/atomate2/lib/python3.10/pathlib.py\", line 578, in _parse_args\n",
      "    a = os.fspath(a)\n",
      "TypeError: expected str, bytes or os.PathLike object, not Structure\n",
      "\n",
      "2025-05-13 15:06:11,815 INFO Finished executing jobs locally\n"
     ]
    }
   ],
   "source": [
    "# Launch the flow locally on login node resources\n",
    "response = run_locally(flow)"
   ]
  },
  {
   "cell_type": "markdown",
   "id": "2e8f7f5e-9139-4bc8-b9a1-a7b732072c07",
   "metadata": {
    "tags": []
   },
   "source": [
    "## Run Job"
   ]
  },
  {
   "cell_type": "markdown",
   "id": "eb3185b1",
   "metadata": {},
   "source": [
    "Code to develop the RUN job of the workflow"
   ]
  },
  {
   "cell_type": "code",
   "execution_count": 32,
   "id": "f1449f08-5984-4984-8b78-370d0bdff84a",
   "metadata": {
    "tags": []
   },
   "outputs": [],
   "source": [
    "@job # TODO: make run_scf_job // run_adslabs_job\n",
    "def run_scf_job(\n",
    "    scf_structures: list[Structure],\n",
    "    static_maker: StaticMaker,\n",
    ") -> Response:\n",
    "    \"\"\"Workflow of running the scf calculations.\n",
    "\n",
    "    Parameters\n",
    "    ----------\n",
    "    scf_structures: list[Structure]\n",
    "        The list of rattled strctures to run scf calculations on.\n",
    "    static_maker: StaticMaker\n",
    "        The static maker for the rattled structures.\n",
    "    is_molecular: bool # TODO remove? could be the dict being called\n",
    "        True if structure is a molecular structure, false if it is not (e.g. crystal)\n",
    "    Returns\n",
    "    -------\n",
    "    Flow\n",
    "        The flow of the scf calculations.\n",
    "    \"\"\"\n",
    "    scf_jobs = []\n",
    "    scf_outputs = defaultdict(list) # Output of the flow\n",
    "\n",
    "    for i, scf_structure in enumerate(scf_structures):\n",
    "        scf_job = static_maker.make(structure=scf_structure, prev_dir=None)\n",
    "        scf_jobs.append(scf_job)\n",
    "        scf_outputs[\"generated_hash\"].append(scf_job.uuid) \n",
    "        scf_outputs[\"energy_in_eV\"].append(scf_job.output.output.energy) \n",
    "        scf_outputs[\"sites\"].append(scf_job.output.output.structure.sites) \n",
    "        scf_outputs[\"forces\"].append(scf_job.output.output.forces) \n",
    "        scf_outputs[\"lattice_matrix\"].append(scf_job.output.output.structure.lattice.matrix) \n",
    "\n",
    "    # Check types before creating Flow and Response\n",
    "    # print(f\"scf_jobs type: {type(scf_jobs)}\")\n",
    "    # print(f\"scf_outputs type: {type(scf_outputs)}\")\n",
    "\n",
    "    # Ensure Flow is constructed correctly\n",
    "    scf_flow = Flow(jobs=scf_jobs, output=scf_outputs)\n",
    "    # print(f\"scf_flow type: {type(scf_flow)}\")\n",
    "\n",
    "    return Response(replace=scf_flow)"
   ]
  },
  {
   "cell_type": "markdown",
   "id": "2a9dfc78-2d3f-4016-98a6-d41ee2cb9890",
   "metadata": {
    "tags": []
   },
   "source": [
    "#### Run Tests"
   ]
  },
  {
   "cell_type": "markdown",
   "id": "f9cce5ad-256b-4654-9a2c-618ce887d0c0",
   "metadata": {
    "tags": []
   },
   "source": [
    "#####  Mock objects"
   ]
  },
  {
   "cell_type": "code",
   "execution_count": 33,
   "id": "028ea38c-0d34-4e28-9ebb-40f655b77aec",
   "metadata": {
    "tags": []
   },
   "outputs": [],
   "source": [
    "# Create mock input\n",
    "def mock_scf_structure1():\n",
    "    coords = [[0.1, 0.1, 0.1], [0.75, 0.5, 0.75]]\n",
    "    lattice = Lattice.from_parameters(a=3.84, b=3.84, c=3.84, alpha=120, beta=90, gamma=60)\n",
    "    struct = Structure(lattice, [\"Si\", \"Si\"], coords)\n",
    "    return struct\n",
    "\n",
    "def mock_scf_structure2():\n",
    "    coords = [[0.2, 0.2, 0.2], [0.75, 0.5, 0.75]]\n",
    "    lattice = Lattice.from_parameters(a=3.84, b=3.84, c=3.84, alpha=120, beta=90, gamma=60)\n",
    "    struct = Structure(lattice, [\"Si\", \"Si\"], coords)\n",
    "    return struct\n",
    "\n",
    "def mock_scf_structure3():\n",
    "    coords = [[0.3, 0.3, 0.3], [0.75, 0.5, 0.75]]\n",
    "    lattice = Lattice.from_parameters(a=3.84, b=3.84, c=3.84, alpha=120, beta=90, gamma=60)\n",
    "    struct = Structure(lattice, [\"Si\", \"Si\"], coords)\n",
    "    return struct\n",
    "\n",
    "mock_rattled_structures = [mock_scf_structure1(), mock_scf_structure2(), mock_scf_structure3()]\n",
    "mock_static_maker = StaticMaker()"
   ]
  },
  {
   "cell_type": "code",
   "execution_count": 34,
   "id": "c6cdd16a-5c1f-490a-a0b9-eae55518a4c3",
   "metadata": {
    "tags": []
   },
   "outputs": [
    {
     "data": {
      "image/png": "[encoded data removed]",
      "text/plain": [
       "<Figure size 300x300 with 1 Axes>"
      ]
     },
     "metadata": {},
     "output_type": "display_data"
    },
    {
     "name": "stdout",
     "output_type": "stream",
     "text": [
      "flowchart TD\n",
      "    1f6d9a0a-ec9f-4c8a-9653-54cda22b7b4d(run_scf_job)\n"
     ]
    }
   ],
   "source": [
    "# Create the mock RUN job\n",
    "test_run_job = run_scf_job(\n",
    "    mock_rattled_structures, \n",
    "    static_maker=mock_static_maker\n",
    ")  \n",
    "test_run_flow = Flow([test_run_job])\n",
    "test_run_flow.draw_graph(figsize=(3, 3)).show()\n",
    "print(to_mermaid(test_run_flow))"
   ]
  },
  {
   "cell_type": "code",
   "execution_count": null,
   "id": "1f4f5047-9068-4d64-85df-064fa30bfb40",
   "metadata": {
    "tags": []
   },
   "outputs": [
    {
     "name": "stdout",
     "output_type": "stream",
     "text": [
      "/pscratch/sd/b/bfune/FFForge/wf_development_runs/5_13/launch_rocket_to_queue_run\n"
     ]
    }
   ],
   "source": [
    "# Create run_calc_dir so outputs of the workflow can be run and stored here\n",
    "run_calc_dir = calc_dir + \"/5_13/run/launch_rocket_to_queue_run\"\n",
    "\n",
    "# Check if the directory exists, and create it if it doesn't\n",
    "if not os.path.exists(run_calc_dir):\n",
    "    os.makedirs(run_calc_dir)\n",
    "\n",
    "# Change to the run directory\n",
    "os.chdir(run_calc_dir)  # Important\n",
    "!pwd"
   ]
  },
  {
   "cell_type": "code",
   "execution_count": 36,
   "id": "3d017809-521c-4488-89e8-3f33ac1be177",
   "metadata": {
    "tags": []
   },
   "outputs": [],
   "source": [
    "# Convert flow to workflow\n",
    "# NOTE: Cannot use response = run_locally(flow) since we want to use computing power\n",
    "test_run_wf = flow_to_workflow(test_run_flow)"
   ]
  },
  {
   "cell_type": "markdown",
   "id": "4d5eb16b-a6b0-49f1-be55-3aff1215d81f",
   "metadata": {
    "jp-MarkdownHeadingCollapsed": true,
    "tags": []
   },
   "source": [
    "##### Launch from Python's launch_rocket_to_queue"
   ]
  },
  {
   "cell_type": "markdown",
   "id": "ab876754-9dd9-435c-ae31-031f545d8fa7",
   "metadata": {
    "tags": []
   },
   "source": [
    "###### Instantiate launchpad"
   ]
  },
  {
   "cell_type": "code",
   "execution_count": 37,
   "id": "44e8cbb8-c9dd-4b2b-8d74-b574e7876c43",
   "metadata": {
    "tags": []
   },
   "outputs": [],
   "source": [
    "my_lpad= LaunchPad.from_file('/global/homes/b/bfune/fw_config/my_launchpad.yaml')"
   ]
  },
  {
   "cell_type": "code",
   "execution_count": 38,
   "id": "93c95922-6d73-418a-a348-a0e1dc4c673c",
   "metadata": {
    "tags": []
   },
   "outputs": [
    {
     "data": {
      "text/plain": [
       "fireworks.core.launchpad.LaunchPad"
      ]
     },
     "execution_count": 38,
     "metadata": {},
     "output_type": "execute_result"
    }
   ],
   "source": [
    "type(my_lpad)"
   ]
  },
  {
   "cell_type": "markdown",
   "id": "a0524e79-c136-41c3-ab12-94893a6d9f23",
   "metadata": {
    "tags": []
   },
   "source": [
    "###### Instantiate qadapter"
   ]
  },
  {
   "cell_type": "code",
   "execution_count": 39,
   "id": "3d727a7c-5c35-44ff-afee-1db840cb8e0f",
   "metadata": {
    "tags": []
   },
   "outputs": [],
   "source": [
    "# Getting firework info from file\n",
    "from fireworks.utilities.fw_serializers import load_object_from_file\n",
    "my_qadapter = load_object_from_file(\"/global/homes/b/bfune/fw_config/my_qadapter.yaml\")"
   ]
  },
  {
   "cell_type": "code",
   "execution_count": 40,
   "id": "5dddd1b0-f52a-4d64-b3f7-d5d87557a362",
   "metadata": {
    "tags": []
   },
   "outputs": [
    {
     "data": {
      "text/plain": [
       "fireworks.user_objects.queue_adapters.common_adapter.CommonAdapter"
      ]
     },
     "execution_count": 40,
     "metadata": {},
     "output_type": "execute_result"
    }
   ],
   "source": [
    "type(my_qadapter)"
   ]
  },
  {
   "cell_type": "markdown",
   "id": "46a24ffc-598d-4314-b4dc-2ed74cb2ab87",
   "metadata": {
    "tags": []
   },
   "source": [
    "###### Instantiate fworker"
   ]
  },
  {
   "cell_type": "code",
   "execution_count": 41,
   "id": "a13ebcb9-7d57-47e4-9e6e-6216bd2f50f4",
   "metadata": {
    "tags": []
   },
   "outputs": [],
   "source": [
    "my_fworker = FWorker.from_file('/global/homes/b/bfune/fw_config/my_fworker.yaml')"
   ]
  },
  {
   "cell_type": "code",
   "execution_count": 42,
   "id": "8a3b3192-0fa0-483d-927e-558f2f532db0",
   "metadata": {
    "tags": []
   },
   "outputs": [
    {
     "data": {
      "text/plain": [
       "fireworks.core.fworker.FWorker"
      ]
     },
     "execution_count": 42,
     "metadata": {},
     "output_type": "execute_result"
    }
   ],
   "source": [
    "type(my_fworker)"
   ]
  },
  {
   "cell_type": "markdown",
   "id": "2a95d253-a97c-4f0f-8d50-58e93dcddc32",
   "metadata": {
    "tags": []
   },
   "source": [
    "###### Launch"
   ]
  },
  {
   "cell_type": "code",
   "execution_count": 43,
   "id": "439b6c0b-9a29-4e91-a8ba-216f3c12f328",
   "metadata": {
    "tags": []
   },
   "outputs": [
    {
     "name": "stdout",
     "output_type": "stream",
     "text": [
      "2025-05-13 15:06:12,317 INFO Added a workflow. id_map: {-3: 114}\n"
     ]
    }
   ],
   "source": [
    "my_mapping = my_lpad.add_wf(test_run_wf)"
   ]
  },
  {
   "cell_type": "code",
   "execution_count": null,
   "id": "2c90f687-09cf-4df2-8922-633688b13fb0",
   "metadata": {
    "tags": []
   },
   "outputs": [],
   "source": [
    "# Attempt to grab fw_id dynamically: NEVERMIND its not correct this generates FW\n",
    "my_fw_id = my_mapping[1]\n",
    "my_fw_id"
   ]
  },
  {
   "cell_type": "code",
   "execution_count": null,
   "id": "62f93625-f55b-411a-9a0a-3bdaddb887a3",
   "metadata": {
    "tags": []
   },
   "outputs": [
    {
     "data": {
      "text/plain": [
       "'Flow'"
      ]
     },
     "execution_count": 38,
     "metadata": {},
     "output_type": "execute_result"
    }
   ],
   "source": [
    "my_lpad.get_wf_by_fw_id(1).name"
   ]
  },
  {
   "cell_type": "code",
   "execution_count": null,
   "id": "f53c66c8-3258-4384-962e-d5b7ec8fb438",
   "metadata": {
    "tags": []
   },
   "outputs": [
    {
     "name": "stdout",
     "output_type": "stream",
     "text": [
      "2025-01-06 19:28:39,909 INFO Launching Rocket\n",
      "2025-01-06 19:28:39,943 INFO RUNNING fw_id: 1 in directory: /global/cfs/cdirs/m4537/bfune/mlff_runs/1_6/isolated_run\n",
      "2025-01-06 19:28:39,977 INFO Task started: {{jobflow.managers.fireworks.JobFiretask}}.\n",
      "2025-01-06 19:28:39,978 INFO Starting job - run_scf_job (dc22f181-c1bc-4bc0-8e56-346d14933fc5)\n",
      "scf_jobs type: <class 'list'>\n",
      "scf_outputs type: <class 'collections.defaultdict'>\n",
      "scf_flow type: <class 'jobflow.core.flow.Flow'>\n",
      "2025-01-06 19:28:40,542 INFO Finished job - run_scf_job (dc22f181-c1bc-4bc0-8e56-346d14933fc5)\n",
      "2025-01-06 19:28:40,555 INFO Task completed: {{jobflow.managers.fireworks.JobFiretask}}\n",
      "2025-01-06 19:28:40,646 INFO Rocket finished\n"
     ]
    },
    {
     "data": {
      "text/plain": [
       "True"
      ]
     },
     "execution_count": 40,
     "metadata": {},
     "output_type": "execute_result"
    }
   ],
   "source": [
    "# Important: run static job first to generate RUN fireworks, then run next\n",
    "launch_rocket(my_lpad)"
   ]
  },
  {
   "cell_type": "code",
   "execution_count": null,
   "id": "34e02c05-9d09-4fdd-9fae-1146bf01799e",
   "metadata": {
    "tags": []
   },
   "outputs": [
    {
     "name": "stdout",
     "output_type": "stream",
     "text": [
      "2025-01-06 19:31:19,667 DEBUG getting queue adapter\n",
      "2025-01-06 19:31:19,675 DEBUG finding a FW to reserve...\n",
      "2025-01-06 19:31:19,698 INFO reserved FW with fw_id: 3\n",
      "2025-01-06 19:31:19,699 INFO moving to launch_dir /global/cfs/cdirs/m4537/bfune/mlff_runs/1_6/isolated_run\n",
      "2025-01-06 19:31:19,699 DEBUG writing queue script\n",
      "2025-01-06 19:31:19,702 INFO submitting queue script\n"
     ]
    },
    {
     "data": {
      "text/plain": [
       "'34639241'"
      ]
     },
     "execution_count": 41,
     "metadata": {},
     "output_type": "execute_result"
    }
   ],
   "source": [
    "launch_rocket_to_queue(\n",
    "    my_lpad,\n",
    "    my_fworker,\n",
    "    my_qadapter,\n",
    "    reserve=True,\n",
    "    launcher_dir=run_calc_dir,\n",
    "    strm_lvl=\"DEBUG\",\n",
    "    fw_id=3) "
   ]
  },
  {
   "cell_type": "code",
   "execution_count": null,
   "id": "b386f947-e957-47c2-bc6b-dbf09f13dd97",
   "metadata": {
    "tags": []
   },
   "outputs": [
    {
     "name": "stdout",
     "output_type": "stream",
     "text": [
      "2025-01-06 19:31:39,322 DEBUG getting queue adapter\n",
      "2025-01-06 19:31:39,330 DEBUG finding a FW to reserve...\n",
      "2025-01-06 19:31:39,353 INFO reserved FW with fw_id: 4\n",
      "2025-01-06 19:31:39,353 INFO moving to launch_dir /global/cfs/cdirs/m4537/bfune/mlff_runs/1_6/isolated_run\n",
      "2025-01-06 19:31:39,354 DEBUG writing queue script\n",
      "2025-01-06 19:31:39,355 INFO submitting queue script\n"
     ]
    },
    {
     "data": {
      "text/plain": [
       "'34639246'"
      ]
     },
     "execution_count": 42,
     "metadata": {},
     "output_type": "execute_result"
    }
   ],
   "source": [
    "launch_rocket_to_queue(\n",
    "    my_lpad,\n",
    "    my_fworker,\n",
    "    my_qadapter,\n",
    "    reserve=True,\n",
    "    launcher_dir=run_calc_dir,\n",
    "    strm_lvl=\"DEBUG\",\n",
    "    fw_id=4) "
   ]
  },
  {
   "cell_type": "code",
   "execution_count": null,
   "id": "ddc04370-bbee-4523-a487-798c8f9636b9",
   "metadata": {
    "tags": []
   },
   "outputs": [
    {
     "name": "stdout",
     "output_type": "stream",
     "text": [
      "2025-01-06 19:31:52,874 DEBUG getting queue adapter\n",
      "2025-01-06 19:31:52,880 DEBUG finding a FW to reserve...\n",
      "2025-01-06 19:31:52,904 INFO reserved FW with fw_id: 5\n",
      "2025-01-06 19:31:52,904 INFO moving to launch_dir /global/cfs/cdirs/m4537/bfune/mlff_runs/1_6/isolated_run\n",
      "2025-01-06 19:31:52,905 DEBUG writing queue script\n",
      "2025-01-06 19:31:52,906 INFO submitting queue script\n"
     ]
    },
    {
     "data": {
      "text/plain": [
       "'34639250'"
      ]
     },
     "execution_count": 43,
     "metadata": {},
     "output_type": "execute_result"
    }
   ],
   "source": [
    "launch_rocket_to_queue(\n",
    "    my_lpad,\n",
    "    my_fworker,\n",
    "    my_qadapter,\n",
    "    reserve=True,\n",
    "    launcher_dir=run_calc_dir,\n",
    "    strm_lvl=\"DEBUG\",\n",
    "    fw_id=5) "
   ]
  },
  {
   "cell_type": "markdown",
   "id": "4227c566-3fdd-45d0-aeb0-56070659eb5d",
   "metadata": {
    "jp-MarkdownHeadingCollapsed": true,
    "tags": []
   },
   "source": [
    "##### Test for 'dict not callable'"
   ]
  },
  {
   "cell_type": "code",
   "execution_count": null,
   "id": "420b8f0a-2a49-443e-adad-4a45e17abdc8",
   "metadata": {
    "tags": []
   },
   "outputs": [
    {
     "name": "stdout",
     "output_type": "stream",
     "text": [
      "The type of mock_run is <class 'jobflow.core.job.Job'>, expected is jobflow.core.job.Job\n",
      "The type of mock_run.function is <class 'function'>, and it is callable\n",
      "asdfasfd\n",
      "The mock_run.function_kwargs is {}\n",
      "The mock_run.function_args is ([Structure Summary\n",
      "Lattice\n",
      "    abc : 3.84 3.8399999999999994 3.84\n",
      " angles : 119.99999999999999 90.0 60.00000000000001\n",
      " volume : 40.038580810231124\n",
      "      A : np.float64(3.84) np.float64(0.0) np.float64(2.351321854362918e-16)\n",
      "      B : np.float64(1.92) np.float64(2.7152900397563426) np.float64(-1.919999999999999)\n",
      "      C : np.float64(0.0) np.float64(0.0) np.float64(3.84)\n",
      "    pbc : True True True\n",
      "PeriodicSite: Si (0.576, 0.2715, 0.192) [0.1, 0.1, 0.1]\n",
      "PeriodicSite: Si (3.84, 1.358, 1.92) [0.75, 0.5, 0.75], Structure Summary\n",
      "Lattice\n",
      "    abc : 3.84 3.8399999999999994 3.84\n",
      " angles : 119.99999999999999 90.0 60.00000000000001\n",
      " volume : 40.038580810231124\n",
      "      A : np.float64(3.84) np.float64(0.0) np.float64(2.351321854362918e-16)\n",
      "      B : np.float64(1.92) np.float64(2.7152900397563426) np.float64(-1.919999999999999)\n",
      "      C : np.float64(0.0) np.float64(0.0) np.float64(3.84)\n",
      "    pbc : True True True\n",
      "PeriodicSite: Si (1.152, 0.5431, 0.384) [0.2, 0.2, 0.2]\n",
      "PeriodicSite: Si (3.84, 1.358, 1.92) [0.75, 0.5, 0.75], Structure Summary\n",
      "Lattice\n",
      "    abc : 3.84 3.8399999999999994 3.84\n",
      " angles : 119.99999999999999 90.0 60.00000000000001\n",
      " volume : 40.038580810231124\n",
      "      A : np.float64(3.84) np.float64(0.0) np.float64(2.351321854362918e-16)\n",
      "      B : np.float64(1.92) np.float64(2.7152900397563426) np.float64(-1.919999999999999)\n",
      "      C : np.float64(0.0) np.float64(0.0) np.float64(3.84)\n",
      "    pbc : True True True\n",
      "PeriodicSite: Si (1.728, 0.8146, 0.576) [0.3, 0.3, 0.3]\n",
      "PeriodicSite: Si (3.84, 1.358, 1.92) [0.75, 0.5, 0.75]],)\n",
      "The mock_run.function_args is ([Structure Summary\n",
      "Lattice\n",
      "    abc : 3.84 3.8399999999999994 3.84\n",
      " angles : 119.99999999999999 90.0 60.00000000000001\n",
      " volume : 40.038580810231124\n",
      "      A : np.float64(3.84) np.float64(0.0) np.float64(2.351321854362918e-16)\n",
      "      B : np.float64(1.92) np.float64(2.7152900397563426) np.float64(-1.919999999999999)\n",
      "      C : np.float64(0.0) np.float64(0.0) np.float64(3.84)\n",
      "    pbc : True True True\n",
      "PeriodicSite: Si (0.576, 0.2715, 0.192) [0.1, 0.1, 0.1]\n",
      "PeriodicSite: Si (3.84, 1.358, 1.92) [0.75, 0.5, 0.75], Structure Summary\n",
      "Lattice\n",
      "    abc : 3.84 3.8399999999999994 3.84\n",
      " angles : 119.99999999999999 90.0 60.00000000000001\n",
      " volume : 40.038580810231124\n",
      "      A : np.float64(3.84) np.float64(0.0) np.float64(2.351321854362918e-16)\n",
      "      B : np.float64(1.92) np.float64(2.7152900397563426) np.float64(-1.919999999999999)\n",
      "      C : np.float64(0.0) np.float64(0.0) np.float64(3.84)\n",
      "    pbc : True True True\n",
      "PeriodicSite: Si (1.152, 0.5431, 0.384) [0.2, 0.2, 0.2]\n",
      "PeriodicSite: Si (3.84, 1.358, 1.92) [0.75, 0.5, 0.75], Structure Summary\n",
      "Lattice\n",
      "    abc : 3.84 3.8399999999999994 3.84\n",
      " angles : 119.99999999999999 90.0 60.00000000000001\n",
      " volume : 40.038580810231124\n",
      "      A : np.float64(3.84) np.float64(0.0) np.float64(2.351321854362918e-16)\n",
      "      B : np.float64(1.92) np.float64(2.7152900397563426) np.float64(-1.919999999999999)\n",
      "      C : np.float64(0.0) np.float64(0.0) np.float64(3.84)\n",
      "    pbc : True True True\n",
      "PeriodicSite: Si (1.728, 0.8146, 0.576) [0.3, 0.3, 0.3]\n",
      "PeriodicSite: Si (3.84, 1.358, 1.92) [0.75, 0.5, 0.75]],)\n",
      "asdfdasf\n"
     ]
    },
    {
     "ename": "IndexError",
     "evalue": "tuple index out of range",
     "output_type": "error",
     "traceback": [
      "\u001b[0;31m---------------------------------------------------------------------------\u001b[0m",
      "\u001b[0;31mIndexError\u001b[0m                                Traceback (most recent call last)",
      "Cell \u001b[0;32mIn[80], line 19\u001b[0m\n\u001b[1;32m     16\u001b[0m \u001b[38;5;28mprint\u001b[39m(\u001b[38;5;124mf\u001b[39m\u001b[38;5;124m\"\u001b[39m\u001b[38;5;124mThe mock_run.function_args is \u001b[39m\u001b[38;5;132;01m{\u001b[39;00mmock_run\u001b[38;5;241m.\u001b[39mfunction_args\u001b[38;5;132;01m}\u001b[39;00m\u001b[38;5;124m\"\u001b[39m)\n\u001b[1;32m     18\u001b[0m \u001b[38;5;28mprint\u001b[39m(\u001b[38;5;124m\"\u001b[39m\u001b[38;5;124masdfdasf\u001b[39m\u001b[38;5;124m\"\u001b[39m)\n\u001b[0;32m---> 19\u001b[0m \u001b[43mmock_run\u001b[49m\u001b[38;5;241;43m.\u001b[39;49m\u001b[43mfunction_args\u001b[49m\u001b[43m[\u001b[49m\u001b[38;5;241;43m1\u001b[39;49m\u001b[43m]\u001b[49m\n",
      "\u001b[0;31mIndexError\u001b[0m: tuple index out of range"
     ]
    }
   ],
   "source": [
    "mock_run = run_scf_job(mock_rattled_structures)\n",
    "\n",
    "# TEST: the job’s function object is of type dict when it should be of callable function\n",
    "assert isinstance(mock_run, Job), \"Expected mock_run to be of type jobflow.core.job.Job\"\n",
    "print(f\"The type of mock_run is {type(mock_run)}, expected is jobflow.core.job.Job\")\n",
    "\n",
    "# Use callable to check if mock_run.function is callable\n",
    "assert callable(mock_run.function), \"Expected mock_run.function to be callable\"\n",
    "print(f\"The type of mock_run.function is {type(mock_run.function)}, and it is callable\")\n",
    "print(f\"The mock_run.function_kwargs is {mock_run.function_kwargs}\")\n",
    "print(f\"The mock_run.function_args is {mock_run.function_args}\")\n",
    "#assert callable(mock_run), \"mock_run is not callable\"\n",
    "\n",
    "# TEST: a dict type could be passed as the function's argument\n",
    "print(f\"The mock_run.function_args is {mock_run.function_args}\")\n",
    "\n",
    "print(\"asdfdasf\")\n",
    "mock_run.function_args[1]"
   ]
  },
  {
   "cell_type": "markdown",
   "id": "eb4852e7-de38-4cfc-89b6-4b1b4cd9d386",
   "metadata": {
    "jp-MarkdownHeadingCollapsed": true,
    "tags": []
   },
   "source": [
    "##### Launch from CLI's yaml"
   ]
  },
  {
   "cell_type": "code",
   "execution_count": null,
   "id": "b7f49730-b704-4d24-825d-f770f4ea4b0e",
   "metadata": {
    "tags": []
   },
   "outputs": [],
   "source": [
    "# ! qlaunch -r singleshot"
   ]
  },
  {
   "cell_type": "markdown",
   "id": "eaba42c2-a503-4e8a-aba4-96371455b783",
   "metadata": {
    "jp-MarkdownHeadingCollapsed": true,
    "tags": []
   },
   "source": [
    "##### Launch from jobflow's run_locally"
   ]
  },
  {
   "cell_type": "code",
   "execution_count": null,
   "id": "952c0674",
   "metadata": {},
   "outputs": [],
   "source": [
    "# Create run_calc_dir so outputs of the workflow can be run and stored here\n",
    "from jobflow import run_locally\n",
    "\n",
    "run_calc_dir = calc_dir + \"/5_13/run/run_locally_run\"\n",
    "\n",
    "# Check if the directory exists, and create it if it doesn't\n",
    "if not os.path.exists(run_calc_dir):\n",
    "    os.makedirs(run_calc_dir)\n",
    "\n",
    "# Change to the run directory\n",
    "os.chdir(run_calc_dir)  # Important\n",
    "!pwd"
   ]
  },
  {
   "cell_type": "code",
   "execution_count": null,
   "id": "2a3c67db-ace2-4de1-b7f5-715d1242697a",
   "metadata": {
    "tags": []
   },
   "outputs": [
    {
     "name": "stdout",
     "output_type": "stream",
     "text": [
      "2024-11-20 20:27:48,379 INFO Started executing jobs locally\n",
      "2024-11-20 20:27:48,384 INFO Starting job - run_scf_job (4f5084b3-c4c7-49e5-9c85-21bb8f3679a2)\n",
      "scf_jobs type: <class 'list'>\n",
      "scf_outputs type: <class 'collections.defaultdict'>\n",
      "scf_flow type: <class 'jobflow.core.flow.Flow'>\n",
      "2024-11-20 20:27:48,950 INFO Finished job - run_scf_job (4f5084b3-c4c7-49e5-9c85-21bb8f3679a2)\n",
      "2024-11-20 20:27:48,954 INFO Starting job - static (0453d9ae-a382-4db6-8149-203d4be4f126)\n"
     ]
    },
    {
     "name": "stderr",
     "output_type": "stream",
     "text": [
      "Failed to load vasprun.xml\n",
      "Traceback (most recent call last):\n",
      "  File \"/global/homes/b/bfune/.conda/envs/atomate2/lib/python3.10/site-packages/custodian/vasp/validators.py\", line 33, in check\n",
      "    load_vasprun(os.path.join(directory, \"vasprun.xml\"))\n",
      "  File \"/global/homes/b/bfune/.conda/envs/atomate2/lib/python3.10/site-packages/custodian/utils.py\", line 80, in __call__\n",
      "    result = self.func(*args, **kwargs)\n",
      "  File \"/global/homes/b/bfune/.conda/envs/atomate2/lib/python3.10/site-packages/custodian/vasp/io.py\", line 21, in load_vasprun\n",
      "    return Vasprun(filepath, **vasprun_kwargs)\n",
      "  File \"/global/homes/b/bfune/.conda/envs/atomate2/lib/python3.10/site-packages/pymatgen/io/vasp/outputs.py\", line 314, in __init__\n",
      "    with zopen(filename, mode=\"rt\") as file:\n",
      "  File \"/global/homes/b/bfune/.conda/envs/atomate2/lib/python3.10/site-packages/monty/io.py\", line 54, in zopen\n",
      "    return open(filename, *args, **kwargs)\n",
      "FileNotFoundError: [Errno 2] No such file or directory: '/global/cfs/cdirs/m4537/bfune/mlff_runs/11_20/test_run/vasprun.xml'\n",
      "Validation failed: VasprunXMLValidator\n"
     ]
    },
    {
     "name": "stdout",
     "output_type": "stream",
     "text": [
      "2024-11-20 20:27:59,105 INFO static failed with exception:\n",
      "Traceback (most recent call last):\n",
      "  File \"/global/homes/b/bfune/.conda/envs/atomate2/lib/python3.10/site-packages/jobflow/managers/local.py\", line 114, in _run_job\n",
      "    response = job.run(store=store)\n",
      "  File \"/global/homes/b/bfune/.conda/envs/atomate2/lib/python3.10/site-packages/jobflow/core/job.py\", line 600, in run\n",
      "    response = function(*self.function_args, **self.function_kwargs)\n",
      "  File \"/global/homes/b/bfune/.conda/envs/atomate2/lib/python3.10/site-packages/atomate2/vasp/jobs/base.py\", line 228, in make\n",
      "    run_vasp(**self.run_vasp_kwargs)\n",
      "  File \"/global/homes/b/bfune/.conda/envs/atomate2/lib/python3.10/site-packages/atomate2/vasp/run.py\", line 161, in run_vasp\n",
      "    custodian_manager.run()\n",
      "  File \"/global/homes/b/bfune/.conda/envs/atomate2/lib/python3.10/site-packages/custodian/custodian.py\", line 385, in run\n",
      "    self._run_job(job_n, job)\n",
      "  File \"/global/homes/b/bfune/.conda/envs/atomate2/lib/python3.10/site-packages/custodian/custodian.py\", line 513, in _run_job\n",
      "    raise ValidationError(msg, raises=True, validator=validator)\n",
      "custodian.custodian.ValidationError: Validation failed: VasprunXMLValidator\n",
      "\n",
      "2024-11-20 20:27:59,106 INFO Starting job - static (f079eb8e-f2c5-4688-a751-8f76d69d3d01)\n"
     ]
    },
    {
     "name": "stderr",
     "output_type": "stream",
     "text": [
      "Failed to load vasprun.xml\n",
      "Traceback (most recent call last):\n",
      "  File \"/global/homes/b/bfune/.conda/envs/atomate2/lib/python3.10/site-packages/custodian/vasp/validators.py\", line 33, in check\n",
      "    load_vasprun(os.path.join(directory, \"vasprun.xml\"))\n",
      "  File \"/global/homes/b/bfune/.conda/envs/atomate2/lib/python3.10/site-packages/custodian/utils.py\", line 80, in __call__\n",
      "    result = self.func(*args, **kwargs)\n",
      "  File \"/global/homes/b/bfune/.conda/envs/atomate2/lib/python3.10/site-packages/custodian/vasp/io.py\", line 21, in load_vasprun\n",
      "    return Vasprun(filepath, **vasprun_kwargs)\n",
      "  File \"/global/homes/b/bfune/.conda/envs/atomate2/lib/python3.10/site-packages/pymatgen/io/vasp/outputs.py\", line 314, in __init__\n",
      "    with zopen(filename, mode=\"rt\") as file:\n",
      "  File \"/global/homes/b/bfune/.conda/envs/atomate2/lib/python3.10/site-packages/monty/io.py\", line 54, in zopen\n",
      "    return open(filename, *args, **kwargs)\n",
      "FileNotFoundError: [Errno 2] No such file or directory: '/global/cfs/cdirs/m4537/bfune/mlff_runs/11_20/test_run/vasprun.xml'\n",
      "Validation failed: VasprunXMLValidator\n"
     ]
    },
    {
     "name": "stdout",
     "output_type": "stream",
     "text": [
      "2024-11-20 20:28:09,248 INFO static failed with exception:\n",
      "Traceback (most recent call last):\n",
      "  File \"/global/homes/b/bfune/.conda/envs/atomate2/lib/python3.10/site-packages/jobflow/managers/local.py\", line 114, in _run_job\n",
      "    response = job.run(store=store)\n",
      "  File \"/global/homes/b/bfune/.conda/envs/atomate2/lib/python3.10/site-packages/jobflow/core/job.py\", line 600, in run\n",
      "    response = function(*self.function_args, **self.function_kwargs)\n",
      "  File \"/global/homes/b/bfune/.conda/envs/atomate2/lib/python3.10/site-packages/atomate2/vasp/jobs/base.py\", line 228, in make\n",
      "    run_vasp(**self.run_vasp_kwargs)\n",
      "  File \"/global/homes/b/bfune/.conda/envs/atomate2/lib/python3.10/site-packages/atomate2/vasp/run.py\", line 161, in run_vasp\n",
      "    custodian_manager.run()\n",
      "  File \"/global/homes/b/bfune/.conda/envs/atomate2/lib/python3.10/site-packages/custodian/custodian.py\", line 385, in run\n",
      "    self._run_job(job_n, job)\n",
      "  File \"/global/homes/b/bfune/.conda/envs/atomate2/lib/python3.10/site-packages/custodian/custodian.py\", line 513, in _run_job\n",
      "    raise ValidationError(msg, raises=True, validator=validator)\n",
      "custodian.custodian.ValidationError: Validation failed: VasprunXMLValidator\n",
      "\n",
      "2024-11-20 20:28:09,249 INFO Starting job - static (563c7859-c061-4948-a553-ac18e4a17362)\n"
     ]
    },
    {
     "name": "stderr",
     "output_type": "stream",
     "text": [
      "Failed to load vasprun.xml\n",
      "Traceback (most recent call last):\n",
      "  File \"/global/homes/b/bfune/.conda/envs/atomate2/lib/python3.10/site-packages/custodian/vasp/validators.py\", line 33, in check\n",
      "    load_vasprun(os.path.join(directory, \"vasprun.xml\"))\n",
      "  File \"/global/homes/b/bfune/.conda/envs/atomate2/lib/python3.10/site-packages/custodian/utils.py\", line 80, in __call__\n",
      "    result = self.func(*args, **kwargs)\n",
      "  File \"/global/homes/b/bfune/.conda/envs/atomate2/lib/python3.10/site-packages/custodian/vasp/io.py\", line 21, in load_vasprun\n",
      "    return Vasprun(filepath, **vasprun_kwargs)\n",
      "  File \"/global/homes/b/bfune/.conda/envs/atomate2/lib/python3.10/site-packages/pymatgen/io/vasp/outputs.py\", line 314, in __init__\n",
      "    with zopen(filename, mode=\"rt\") as file:\n",
      "  File \"/global/homes/b/bfune/.conda/envs/atomate2/lib/python3.10/site-packages/monty/io.py\", line 54, in zopen\n",
      "    return open(filename, *args, **kwargs)\n",
      "FileNotFoundError: [Errno 2] No such file or directory: '/global/cfs/cdirs/m4537/bfune/mlff_runs/11_20/test_run/vasprun.xml'\n",
      "Validation failed: VasprunXMLValidator\n"
     ]
    },
    {
     "name": "stdout",
     "output_type": "stream",
     "text": [
      "2024-11-20 20:28:19,415 INFO static failed with exception:\n",
      "Traceback (most recent call last):\n",
      "  File \"/global/homes/b/bfune/.conda/envs/atomate2/lib/python3.10/site-packages/jobflow/managers/local.py\", line 114, in _run_job\n",
      "    response = job.run(store=store)\n",
      "  File \"/global/homes/b/bfune/.conda/envs/atomate2/lib/python3.10/site-packages/jobflow/core/job.py\", line 600, in run\n",
      "    response = function(*self.function_args, **self.function_kwargs)\n",
      "  File \"/global/homes/b/bfune/.conda/envs/atomate2/lib/python3.10/site-packages/atomate2/vasp/jobs/base.py\", line 228, in make\n",
      "    run_vasp(**self.run_vasp_kwargs)\n",
      "  File \"/global/homes/b/bfune/.conda/envs/atomate2/lib/python3.10/site-packages/atomate2/vasp/run.py\", line 161, in run_vasp\n",
      "    custodian_manager.run()\n",
      "  File \"/global/homes/b/bfune/.conda/envs/atomate2/lib/python3.10/site-packages/custodian/custodian.py\", line 385, in run\n",
      "    self._run_job(job_n, job)\n",
      "  File \"/global/homes/b/bfune/.conda/envs/atomate2/lib/python3.10/site-packages/custodian/custodian.py\", line 513, in _run_job\n",
      "    raise ValidationError(msg, raises=True, validator=validator)\n",
      "custodian.custodian.ValidationError: Validation failed: VasprunXMLValidator\n",
      "\n",
      "2024-11-20 20:28:19,416 INFO Starting job - store_inputs (4f5084b3-c4c7-49e5-9c85-21bb8f3679a2, 2)\n",
      "2024-11-20 20:28:19,420 INFO Finished job - store_inputs (4f5084b3-c4c7-49e5-9c85-21bb8f3679a2, 2)\n",
      "2024-11-20 20:28:19,421 INFO Finished executing jobs locally\n"
     ]
    }
   ],
   "source": [
    "test_response = run_locally(test_run_flow)"
   ]
  },
  {
   "cell_type": "code",
   "execution_count": 26,
   "id": "20eb0af0-d658-4935-918e-16de5852395c",
   "metadata": {
    "tags": []
   },
   "outputs": [
    {
     "data": {
      "text/plain": [
       "{'4f5084b3-c4c7-49e5-9c85-21bb8f3679a2': {1: Response(output=None, detour=None, addition=None, replace=Flow(name='Flow', uuid='3af42f67-c116-4be5-9935-632f3b5dad3b')\n",
       "  1. Job(name='static', uuid='0453d9ae-a382-4db6-8149-203d4be4f126')\n",
       "  2. Job(name='static', uuid='f079eb8e-f2c5-4688-a751-8f76d69d3d01')\n",
       "  3. Job(name='static', uuid='563c7859-c061-4948-a553-ac18e4a17362')\n",
       "  4. Job(name='store_inputs', uuid='4f5084b3-c4c7-49e5-9c85-21bb8f3679a2'), stored_data=None, stop_children=False, stop_jobflow=False, job_dir=None),\n",
       "  2: Response(output=defaultdict(<class 'list'>, {'generated_hash': ['0453d9ae-a382-4db6-8149-203d4be4f126', 'f079eb8e-f2c5-4688-a751-8f76d69d3d01', '563c7859-c061-4948-a553-ac18e4a17362'], 'energy_in_eV': [OutputReference(0453d9ae-a382-4db6-8149-203d4be4f126, .output, .energy), OutputReference(f079eb8e-f2c5-4688-a751-8f76d69d3d01, .output, .energy), OutputReference(563c7859-c061-4948-a553-ac18e4a17362, .output, .energy)], 'sites': [OutputReference(0453d9ae-a382-4db6-8149-203d4be4f126, .output, .structure, .sites), OutputReference(f079eb8e-f2c5-4688-a751-8f76d69d3d01, .output, .structure, .sites), OutputReference(563c7859-c061-4948-a553-ac18e4a17362, .output, .structure, .sites)], 'forces': [OutputReference(0453d9ae-a382-4db6-8149-203d4be4f126, .output, .forces), OutputReference(f079eb8e-f2c5-4688-a751-8f76d69d3d01, .output, .forces), OutputReference(563c7859-c061-4948-a553-ac18e4a17362, .output, .forces)], 'lattice_matrix': [OutputReference(0453d9ae-a382-4db6-8149-203d4be4f126, .output, .structure, .lattice, .matrix), OutputReference(f079eb8e-f2c5-4688-a751-8f76d69d3d01, .output, .structure, .lattice, .matrix), OutputReference(563c7859-c061-4948-a553-ac18e4a17362, .output, .structure, .lattice, .matrix)]}), detour=None, addition=None, replace=None, stored_data=None, stop_children=False, stop_jobflow=False, job_dir=PosixPath('/global/cfs/cdirs/m4537/bfune/mlff_runs/11_20/test_run'))}}"
      ]
     },
     "execution_count": 26,
     "metadata": {},
     "output_type": "execute_result"
    }
   ],
   "source": [
    "test_response"
   ]
  },
  {
   "cell_type": "markdown",
   "id": "20f8cf4f-60fb-4f12-8cbd-d12e08805e04",
   "metadata": {
    "tags": []
   },
   "source": [
    "## Write Job"
   ]
  },
  {
   "cell_type": "markdown",
   "id": "2fc51901",
   "metadata": {},
   "source": [
    "Code to develop the WRITE job of the workflow"
   ]
  },
  {
   "cell_type": "code",
   "execution_count": 5,
   "id": "e612c5d0-9083-4110-9508-11da42ecb476",
   "metadata": {
    "tags": []
   },
   "outputs": [],
   "source": [
    "@job # TODO: make write_scf_examples // adsorption_calculations\n",
    "def write_scf_examples(\n",
    "    scf_data: dict[str, list], # This causes the values to be in a list, probably by design\n",
    "    prefix: str = \"Job\",\n",
    "    is_molecular: bool | str = False,\n",
    "    output_dir: str | Path | None = None,\n",
    "):\n",
    "    \"\"\"Write the example files from the scf calculations for PANNA usage.\n",
    "\n",
    "    Parameters\n",
    "    ----------\n",
    "    scf_data : dict[str, list]\n",
    "        Dictionary containing data of the scf calculations.\n",
    "    prefix: str\n",
    "        The identifier of the structure the forcefield is being generated for\n",
    "    is_molecular: bool or str\n",
    "        True if structure is a molecular structure, false if it is not (e.g. crystal)\n",
    "    output_dir : str or Path or None\n",
    "        A directory to output the example files for PANNA to use\n",
    "    Returns\n",
    "    -------\n",
    "    None\n",
    "    \"\"\"\n",
    "\n",
    "    lattice_vectors = {}\n",
    "    site_results = []\n",
    "\n",
    "    # Get output data\n",
    "    generated_hash = scf_data[\"generated_hash\"][0]\n",
    "    energy_in_eV = scf_data[\"energy_in_eV\"][0]\n",
    "    sites = scf_data[\"sites\"][0]\n",
    "    forces = scf_data[\"forces\"][0]\n",
    "    output_dir = Path(f'./PANNA/examples_files') # TODO: change dir name from /PANNA/ -> /<fireworks_wf_id>_PANNA/\n",
    "    \n",
    "    # print(\"Type of generated_hash (ideal is string, might be list): \", type(generated_hash))\n",
    "    # print(\"The generated_hash value: \", generated_hash)\n",
    "    # print(f\"Output directory: {output_dir}\")\n",
    "    # print(f\"Data received: {scf_data}\")\n",
    "\n",
    "    # Process each site\n",
    "    for i in range(len(sites)):\n",
    "        \n",
    "        site_dict = sites[i].as_dict(1)\n",
    "        atom = site_dict[\"label\"]\n",
    "        xcoord, ycoord, zcoord = map(float, site_dict[\"xyz\"])\n",
    "        xforce, yforce, zforce = map(float, forces[0])\n",
    "\n",
    "        # Append a dictionary with all relevant information\n",
    "        site_results.append({\n",
    "            \"index\": i,\n",
    "            \"atom\": atom,\n",
    "            \"xcoord\": xcoord,\n",
    "            \"ycoord\": ycoord,\n",
    "            \"zcoord\": zcoord,\n",
    "            \"xforce\": xforce,\n",
    "            \"yforce\": yforce,\n",
    "            \"zforce\": zforce,\n",
    "        })\n",
    "        \n",
    "    # If the structure is not molecular, get the lattice vector data\n",
    "    if is_molecular is False:\n",
    "        lattice_matrix = scf_data[\"lattice_matrix\"][0]\n",
    "\n",
    "        # Extract and cast the elements from the lattice matrix\n",
    "        x1, x2, x3 = map(float, lattice_matrix[0])\n",
    "        y1, y2, y3 = map(float, lattice_matrix[1])\n",
    "        z1, z2, z3 = map(float, lattice_matrix[2])\n",
    "\n",
    "        # Store lattice vectors as a single dictionary\n",
    "        lattice_vectors = {\n",
    "            \"x1\": x1,\n",
    "            \"x2\": x2,\n",
    "            \"x3\": x3,\n",
    "            \"y1\": y1,\n",
    "            \"y2\": y2,\n",
    "            \"y3\": y3,\n",
    "            \"z1\": z1,\n",
    "            \"z2\": z2,\n",
    "            \"z3\": z3\n",
    "        }\n",
    "\n",
    "    template_str = \"\"\"{\n",
    "    \"key\": \"{{ generated_hash }}\",{% if not is_molecular %}\n",
    "    \"lattice_vectors\": [\n",
    "        [\n",
    "            {{ lattice_vectors['x1'] }},\n",
    "            {{ lattice_vectors['x2'] }},\n",
    "            {{ lattice_vectors['x3'] }}\n",
    "        ],\n",
    "        [\n",
    "            {{ lattice_vectors['y1'] }},\n",
    "            {{ lattice_vectors['y2'] }},\n",
    "            {{ lattice_vectors['y3'] }}\n",
    "        ],\n",
    "        [\n",
    "            {{ lattice_vectors['z1'] }},\n",
    "            {{ lattice_vectors['z2'] }},\n",
    "            {{ lattice_vectors['z3'] }}\n",
    "        ]\n",
    "    ],{% endif %}\n",
    "    \"atomic_position_unit\": \"cartesian\",\n",
    "    \"unit_of_length\": \"angstrom\",\n",
    "    \"energy\": [\n",
    "        {{ energy_in_eV }},\n",
    "        \"eV\"\n",
    "    ],\n",
    "    \"atoms\": [{% for site in sites %}\n",
    "        [\n",
    "            {{ site['index'] }},\n",
    "            \"{{ site['atom'] }}\",\n",
    "            [\n",
    "                {{ site['xcoord'] }},\n",
    "                {{ site['ycoord'] }},\n",
    "                {{ site['zcoord'] }}\n",
    "            ],\n",
    "            [\n",
    "                {{ site['xforce'] }},\n",
    "                {{ site['yforce'] }},\n",
    "                {{ site['zforce'] }}\n",
    "            ]\n",
    "        ]{% if not loop.last %},{% endif %}{% endfor %}\n",
    "    ]\n",
    "}\"\"\"\n",
    "\n",
    "    # Create the Jinja2 template object\n",
    "    template = Template(template_str)\n",
    "\n",
    "    # Render the template with provided arguments\n",
    "    rendered_output = template.render(\n",
    "        generated_hash=generated_hash,\n",
    "        is_molecular=is_molecular,  # Convert to boolean\n",
    "        lattice_vectors=lattice_vectors,\n",
    "        energy_in_eV=energy_in_eV,\n",
    "        sites=site_results\n",
    "    )\n",
    "\n",
    "    # Ensure the output directory exists\n",
    "    output_dir.mkdir(parents=True, exist_ok=True)\n",
    "\n",
    "    # Define the output file path\n",
    "    output_file_path = output_dir / f\"{prefix}_{generated_hash}.example\"\n",
    "\n",
    "    # Write the rendered output to the file\n",
    "    with open(output_file_path, 'w') as f:\n",
    "        f.write(rendered_output)\n",
    "\n",
    "    print(f\"Template written to {output_file_path}\")"
   ]
  },
  {
   "cell_type": "markdown",
   "id": "b78dc17a-19d8-4e50-8165-a40eca5e0bf6",
   "metadata": {},
   "source": [
    "#### Write Tests"
   ]
  },
  {
   "cell_type": "markdown",
   "id": "85ef8893-39c5-4b0b-9e82-f7a07e25a23d",
   "metadata": {
    "jp-MarkdownHeadingCollapsed": true,
    "tags": []
   },
   "source": [
    "##### Mock objects"
   ]
  },
  {
   "cell_type": "code",
   "execution_count": 52,
   "id": "916f6425-1e6f-4719-a8ff-8171ee07447c",
   "metadata": {
    "tags": []
   },
   "outputs": [],
   "source": [
    "def mock_crystal_scf_data():\n",
    "    return { # Put all key-values in a list to enforce scf_output style probably\n",
    "        \"generated_hash\": [\"mock_generated_hash_crystal_123\"], \n",
    "        \"energy_in_eV\": [-10.5], \n",
    "        \"sites\": [\n",
    "            [\n",
    "                {\n",
    "                    \"label\": \"Mg\",\n",
    "                    \"xyz\": [0.0, 0.0, 0.0],\n",
    "                    \"species\" : [\n",
    "                        {\n",
    "                            \"element\": \"Mg\",\n",
    "                        }\n",
    "                    ],\n",
    "                },\n",
    "                {\n",
    "                    \"label\": \"Mg\",\n",
    "                    \"xyz\": [1.0, 1.0, 1.0],\n",
    "                    \"species\" : [\n",
    "                        {\n",
    "                            \"element\": \"Mg\",\n",
    "                        }\n",
    "                    ],\n",
    "                },\n",
    "            ],\n",
    "        ],\n",
    "        \"forces\": [\n",
    "            [\n",
    "                [0.1, 0.2, 0.3],\n",
    "                [-0.1, -0.2, -0.3],\n",
    "            ],\n",
    "        ],\n",
    "        \"lattice_matrix\": [ \n",
    "            [\n",
    "                [1.0, 0.0, 0.0],\n",
    "                [0.0, 1.0, 0.0],\n",
    "                [0.0, 0.0, 1.0],\n",
    "            ],\n",
    "        ],\n",
    "    }"
   ]
  },
  {
   "cell_type": "code",
   "execution_count": 53,
   "id": "e57e4c9e-19e7-4fb2-8e56-4e27bb673f03",
   "metadata": {
    "tags": []
   },
   "outputs": [],
   "source": [
    "def mock_molecular_scf_data():\n",
    "    return {\n",
    "        \"generated_hash\": [ \"mock_generated_hash_molecular_123\" ],\n",
    "        \"energy_in_eV\": [ -10.5 ],\n",
    "        \"sites\": [\n",
    "            [\n",
    "                {\n",
    "                    \"label\": \"H\",\n",
    "                    \"xyz\": [0.0, 0.0, 0.0],\n",
    "                    \"species\" : [\n",
    "                        {\n",
    "                            \"element\": \"H\",\n",
    "                        }\n",
    "                    ],\n",
    "                },\n",
    "                {\n",
    "                    \"label\": \"O\",\n",
    "                    \"xyz\": [1.0, 1.0, 1.0],\n",
    "                    \"species\" : [\n",
    "                        {\n",
    "                            \"element\": \"O\",\n",
    "                        }\n",
    "                    ],\n",
    "                },\n",
    "            ],\n",
    "        ],\n",
    "        \"forces\": [\n",
    "            [\n",
    "                [0.1, 0.2, 0.3],\n",
    "                [-0.1, -0.2, -0.3],\n",
    "            ],\n",
    "        ],\n",
    "    }"
   ]
  },
  {
   "cell_type": "code",
   "execution_count": 54,
   "id": "37df6b48-5295-47e9-b138-536155109610",
   "metadata": {
    "tags": []
   },
   "outputs": [],
   "source": [
    "# Test for a crystal system\n",
    "crystal_data = mock_crystal_scf_data()\n",
    "\n",
    "# Test for a molecular system\n",
    "molecular_data = mock_molecular_scf_data()"
   ]
  },
  {
   "cell_type": "code",
   "execution_count": 55,
   "id": "40a0c686-e365-46a2-863f-31bf9742aa3c",
   "metadata": {
    "tags": []
   },
   "outputs": [
    {
     "data": {
      "image/png": "[encoded data removed]",
      "text/plain": [
       "<Figure size 300x300 with 1 Axes>"
      ]
     },
     "metadata": {},
     "output_type": "display_data"
    },
    {
     "name": "stdout",
     "output_type": "stream",
     "text": [
      "flowchart TD\n",
      "    ef0989f2-17f3-4006-a559-2194016051f5(write_scf_examples)\n",
      "    bd0369d3-dc68-4772-ac6a-33bfcadff286(write_scf_examples)\n"
     ]
    }
   ],
   "source": [
    "test_write_crystal_job = write_scf_examples(crystal_data, is_molecular=False)  \n",
    "test_write_molecular_job = write_scf_examples(molecular_data, is_molecular=True)  \n",
    "write_flow = Flow([test_write_crystal_job, test_write_molecular_job])\n",
    "write_flow.draw_graph(figsize=(3, 3)).show()\n",
    "\n",
    "print(to_mermaid(write_flow))"
   ]
  },
  {
   "cell_type": "markdown",
   "id": "46d5dd90-f006-4277-be88-316df65c2406",
   "metadata": {
    "jp-MarkdownHeadingCollapsed": true,
    "tags": []
   },
   "source": [
    "##### Execute via Jobflow (run_locally)"
   ]
  },
  {
   "cell_type": "code",
   "execution_count": null,
   "id": "dd62a948-3117-444b-8b6e-6eeda192746b",
   "metadata": {
    "tags": []
   },
   "outputs": [],
   "source": [
    "# Create write_calc_dir so outputs of the workflow can be run and stored here\n",
    "write_calc_dir = calc_dir + \"/5_13/write/run_locally_run\"\n",
    "\n",
    "# Check if the directory exists, and create it if it doesn't\n",
    "if not os.path.exists(write_calc_dir):\n",
    "    os.makedirs(write_calc_dir)\n",
    "\n",
    "# Change to the run directory\n",
    "os.chdir(write_calc_dir)  # Important\n",
    "!pwd"
   ]
  },
  {
   "cell_type": "code",
   "execution_count": 57,
   "id": "72c661fa-60fd-4874-b4b5-f4248ad403f4",
   "metadata": {
    "tags": []
   },
   "outputs": [
    {
     "name": "stdout",
     "output_type": "stream",
     "text": [
      "2025-01-10 09:04:05,407 INFO Started executing jobs locally\n",
      "2025-01-10 09:04:05,408 INFO Starting job - write_scf_examples (ef0989f2-17f3-4006-a559-2194016051f5)\n",
      "Template written to PANNA/examples_files/Job_mock_generated_hash_crystal_123.example\n",
      "2025-01-10 09:04:05,422 INFO Finished job - write_scf_examples (ef0989f2-17f3-4006-a559-2194016051f5)\n",
      "2025-01-10 09:04:05,423 INFO Starting job - write_scf_examples (bd0369d3-dc68-4772-ac6a-33bfcadff286)\n",
      "Template written to PANNA/examples_files/Job_mock_generated_hash_molecular_123.example\n",
      "2025-01-10 09:04:05,431 INFO Finished job - write_scf_examples (bd0369d3-dc68-4772-ac6a-33bfcadff286)\n",
      "2025-01-10 09:04:05,432 INFO Finished executing jobs locally\n"
     ]
    },
    {
     "name": "stderr",
     "output_type": "stream",
     "text": [
      "/global/homes/b/bfune/.conda/envs/atomate2/lib/python3.10/site-packages/jobflow/core/flow.py:431: UserWarning: Some jobs are not connected, their ordering may be random\n",
      "  for node in itergraph(graph):\n"
     ]
    }
   ],
   "source": [
    "response = run_locally(write_flow)"
   ]
  },
  {
   "cell_type": "markdown",
   "id": "f44d0701-4b0c-4128-8df9-e7bec6eda7fe",
   "metadata": {
    "jp-MarkdownHeadingCollapsed": true,
    "tags": []
   },
   "source": [
    "##### Execute via Fireworks (launch_rocket)"
   ]
  },
  {
   "cell_type": "code",
   "execution_count": 58,
   "id": "5965ae85-b668-4b8b-8873-2c7d6689ef47",
   "metadata": {
    "tags": []
   },
   "outputs": [],
   "source": [
    "# Initialize lpad\n",
    "lpad = LaunchPad.from_file('/global/homes/b/bfune/fw_config/my_launchpad.yaml')"
   ]
  },
  {
   "cell_type": "code",
   "execution_count": 59,
   "id": "36feaaf0-d36e-4ca5-9053-4d23f11c3404",
   "metadata": {
    "tags": []
   },
   "outputs": [
    {
     "name": "stdout",
     "output_type": "stream",
     "text": [
      "2025-01-10 09:06:09,997 INFO Added a workflow. id_map: {-9: 6, -8: 7}\n"
     ]
    },
    {
     "data": {
      "text/plain": [
       "{-9: 6, -8: 7}"
      ]
     },
     "execution_count": 59,
     "metadata": {},
     "output_type": "execute_result"
    }
   ],
   "source": [
    "# Add write workflow to launchpad \n",
    "write_wf = flow_to_workflow(write_flow) # Convert from Flow to Workflow\n",
    "lpad.add_wf(write_wf)"
   ]
  },
  {
   "cell_type": "code",
   "execution_count": null,
   "id": "9f6c7d8a-c98e-4cf6-88a5-19627c0db91e",
   "metadata": {
    "tags": []
   },
   "outputs": [],
   "source": [
    "# Create write_calc_dir so outputs of the workflow can be run and stored here\n",
    "write_calc_dir = calc_dir + \"/5_13/write/launch_rocket_run\"\n",
    "\n",
    "# Check if the directory exists, and create it if it doesn't\n",
    "if not os.path.exists(write_calc_dir):\n",
    "    os.makedirs(write_calc_dir)\n",
    "\n",
    "# Change to the run directory\n",
    "os.chdir(write_calc_dir)  # Important\n",
    "!pwd"
   ]
  },
  {
   "cell_type": "code",
   "execution_count": 62,
   "id": "51c2c133-3131-4509-b92e-b781f3875701",
   "metadata": {
    "tags": []
   },
   "outputs": [
    {
     "name": "stdout",
     "output_type": "stream",
     "text": [
      "2025-01-10 09:06:42,539 INFO Launching Rocket\n",
      "2025-01-10 09:06:42,560 INFO RUNNING fw_id: 7 in directory: /global/cfs/cdirs/m4537/bfune/mlff_runs/1_9/isolated_fireworks_write_fw\n",
      "2025-01-10 09:06:42,569 INFO Task started: {{jobflow.managers.fireworks.JobFiretask}}.\n",
      "2025-01-10 09:06:42,569 INFO Starting job - write_scf_examples (ef0989f2-17f3-4006-a559-2194016051f5)\n",
      "Template written to PANNA/examples_files/Job_mock_generated_hash_crystal_123.example\n",
      "2025-01-10 09:06:42,580 INFO Finished job - write_scf_examples (ef0989f2-17f3-4006-a559-2194016051f5)\n",
      "2025-01-10 09:06:42,580 INFO Task completed: {{jobflow.managers.fireworks.JobFiretask}}\n",
      "2025-01-10 09:06:42,597 INFO Rocket finished\n"
     ]
    },
    {
     "data": {
      "text/plain": [
       "True"
      ]
     },
     "execution_count": 62,
     "metadata": {},
     "output_type": "execute_result"
    }
   ],
   "source": [
    "# Launch workflow\n",
    "launch_rocket(lpad)"
   ]
  },
  {
   "cell_type": "markdown",
   "id": "362b79f4-22c2-4cd4-9b02-214f886ed332",
   "metadata": {
    "tags": []
   },
   "source": [
    "## MLForceFieldMaker Workflow"
   ]
  },
  {
   "cell_type": "markdown",
   "id": "4feb3579",
   "metadata": {},
   "source": [
    "Code to develop the workflow called MLForceFieldMaker (connecting GENERATE, RUN, WRITE)"
   ]
  },
  {
   "cell_type": "code",
   "execution_count": 75,
   "id": "4ccb58c2-9cfd-4f86-9d6a-2921d2656456",
   "metadata": {
    "tags": []
   },
   "outputs": [],
   "source": [
    "\"\"\"Flow for writing example files for a structure to use with PANNA surface.\"\"\"\n",
    "\n",
    "from dataclasses import dataclass\n",
    "from jobflow import Flow, Job, Maker\n",
    "from pymatgen.core.structure import Structure\n",
    "from atomate2.vasp.jobs.core import StaticMaker\n",
    "from pathlib import Path\n",
    "# TODO: import the functions from job.py\n",
    "\n",
    "@dataclass\n",
    "class MLForceFieldMaker(Maker):\n",
    "    \"\"\"\n",
    "    Workflow that writes example files from SCF calculated, rattled structures.\n",
    "\n",
    "    The flow consists of the following steps:\n",
    "      1. Generate rattled structures\n",
    "      2. Run scf vasp calculations on the generated structures\n",
    "      3. Write example files to a specified directory\n",
    "\n",
    "    Parameters\n",
    "    ----------\n",
    "    name: str\n",
    "        Name of the flow.\n",
    "    examples_dir : str or Path or None\n",
    "        A directory to output the example files for PANNA to use\n",
    "    \"\"\"\n",
    "\n",
    "    name: str = \"forge force field workflow\"\n",
    "    static_maker: Maker = field(default_factory=StaticMaker)\n",
    "    example_dir: str | Path | None = Path(f'./PANNA/examples_files') # TODO: change dir name from /PANNA/ -> /<fireworks_wf_id>_PANNA/\n",
    "\n",
    "    def make(\n",
    "        self,\n",
    "        structure: str | Path, \n",
    "        prefix: str = \"Job\",\n",
    "        max_structures: int = 20,\n",
    "        is_molecular: bool = False,\n",
    "        purpose: str = \"Simple Equilibration\",\n",
    "        use_custodian: bool = True\n",
    "    ) -> Flow:\n",
    "        \"\"\"\n",
    "        Generate a flow for writing example files for rattled scf structures.\n",
    "\n",
    "        Parameters\n",
    "        -----------\n",
    "        structure: str | Path\n",
    "            A string or Path to a structure file. The structure to be generate a MLFF for.\n",
    "        prefix: str\n",
    "            The identifier of the structure the forcefield is being generated for.\n",
    "        max_structures: int or 20\n",
    "            Number of structures to rattled to make the PANNA training set off of.\n",
    "        example_dir: str or Path or None\n",
    "            A directory to output the example files to.\n",
    "        is_molecular: bool\n",
    "            True if structure is a molecular structure, False if it is not (e.g. crystal systems)\n",
    "        use_custodian: bool\n",
    "            True if user wants to use custodian when running VASP (recommended), else False to run VASP without custodian\n",
    "        Returns\n",
    "        --------\n",
    "        Flow\n",
    "            A flow object for writing the example files\n",
    "        \"\"\"\n",
    "        \n",
    "        # If custodian is not used, set `job_type` to `direct`\n",
    "        if not use_custodian:\n",
    "            self.static_maker.run_vasp_kwargs[\"job_type\"] = \"direct\"\n",
    "\n",
    "        jobs: list[Job] = []\n",
    "\n",
    "        # Step 1: Generate rattled structures\n",
    "        generate_rattled_structures = generate_rattled(\n",
    "            structure_to_rattle = structure,\n",
    "            purpose = 'Simple Equilibration',\n",
    "            num_structures = max_structures,\n",
    "        )\n",
    "        jobs += [generate_rattled_structures]\n",
    "        rattled_structures = generate_rattled_structures.output\n",
    "\n",
    "        # Step 2: Run SCF calculations on rattled structures\n",
    "        run_scf_calculation = run_scf_job( \n",
    "            scf_structures=rattled_structures,\n",
    "            static_maker=self.static_maker,\n",
    "        )\n",
    "        jobs +=  [run_scf_calculation]\n",
    "        scf_outputs = run_scf_calculation.output\n",
    "\n",
    "        # Step 3: Write example files to the specified directory\n",
    "        write_example_files = write_scf_examples(\n",
    "            scf_data=scf_outputs,\n",
    "            prefix=prefix,\n",
    "            is_molecular=is_molecular,\n",
    "            output_dir=self.example_dir,\n",
    "        )\n",
    "        jobs += [write_example_files]\n",
    "\n",
    "        return Flow(\n",
    "            jobs=jobs,\n",
    "            output=write_example_files.output,\n",
    "            name = self.name,\n",
    "        )"
   ]
  },
  {
   "cell_type": "markdown",
   "id": "dc235e76-c02d-4f70-bbde-113554de2a6c",
   "metadata": {
    "tags": []
   },
   "source": [
    "### Flow Tests"
   ]
  },
  {
   "cell_type": "markdown",
   "id": "f7e1ce99-c9a1-4875-9d74-cab9c5abae5f",
   "metadata": {
    "tags": []
   },
   "source": [
    "##### Mock objects"
   ]
  },
  {
   "cell_type": "code",
   "execution_count": 76,
   "id": "1d841ce6-10be-46bc-b6ef-4167137c3d59",
   "metadata": {},
   "outputs": [],
   "source": [
    "def mock_wf_structure():\n",
    "    coords = [[0.33, 0.33, 0.33], [0.75, 0.5, 0.75]]\n",
    "    lattice = Lattice.from_parameters(a=3.84, b=3.84, c=3.84, alpha=120, beta=90, gamma=60)\n",
    "    struct = Structure(lattice, [\"Si\", \"Si\"], coords)\n",
    "    return struct"
   ]
  },
  {
   "cell_type": "code",
   "execution_count": 77,
   "id": "e0899f24-5936-4608-bc86-a698cc583519",
   "metadata": {
    "tags": []
   },
   "outputs": [],
   "source": [
    "mock_structure = mock_wf_structure()\n",
    "mock_prefix = \"Mock_Wf_Whole_Test_6\"\n",
    "mock_max_structures = 3\n",
    "mock_is_molecular = False\n",
    "mock_purpose = \"Simple Equilibration\""
   ]
  },
  {
   "cell_type": "code",
   "execution_count": 78,
   "id": "a51b7c57-256f-4aca-9f6f-07ff0610f12d",
   "metadata": {
    "tags": []
   },
   "outputs": [
    {
     "data": {
      "image/png": "[encoded data removed]",
      "text/plain": [
       "<Figure size 400x200 with 1 Axes>"
      ]
     },
     "metadata": {},
     "output_type": "display_data"
    },
    {
     "name": "stdout",
     "output_type": "stream",
     "text": [
      "flowchart TD\n",
      "    3907d69f-4a17-4492-a6e2-befcb125c446(generate_rattled) -->|output| 6a72d338-6d1e-4c63-b39f-0994e29c1619(run_scf_job)\n",
      "    6a72d338-6d1e-4c63-b39f-0994e29c1619(run_scf_job) -->|output| 5fd6ea83-33f3-4f53-b33b-1a442204f3b9(write_scf_examples)\n",
      "    3907d69f-4a17-4492-a6e2-befcb125c446(generate_rattled)\n",
      "    6a72d338-6d1e-4c63-b39f-0994e29c1619(run_scf_job)\n",
      "    5fd6ea83-33f3-4f53-b33b-1a442204f3b9(write_scf_examples)\n"
     ]
    }
   ],
   "source": [
    "# Create an instance of MLForceFieldMaker\n",
    "mlff_maker = MLForceFieldMaker()\n",
    "\n",
    "# Call make on the instance\n",
    "mlff_flow = mlff_maker.make(\n",
    "    structure=mock_structure,\n",
    "    prefix=mock_prefix,\n",
    "    max_structures=mock_max_structures,\n",
    "    is_molecular=mock_is_molecular,\n",
    "    purpose=mock_purpose\n",
    ")\n",
    "\n",
    "# Now, you can use the created workflow as before\n",
    "mlff_flow.draw_graph(figsize=(4, 2)).show()\n",
    "print(to_mermaid(mlff_flow))"
   ]
  },
  {
   "cell_type": "code",
   "execution_count": 79,
   "id": "02571082-72e5-4edf-aa91-8c76a8835e61",
   "metadata": {
    "tags": []
   },
   "outputs": [
    {
     "data": {
      "text/plain": [
       "Flow(name='forge force field workflow', uuid='16c8b0d4-270c-45ee-b3db-77d76db7bb92')\n",
       "1. Job(name='generate_rattled', uuid='3907d69f-4a17-4492-a6e2-befcb125c446')\n",
       "2. Job(name='run_scf_job', uuid='6a72d338-6d1e-4c63-b39f-0994e29c1619')\n",
       "3. Job(name='write_scf_examples', uuid='5fd6ea83-33f3-4f53-b33b-1a442204f3b9')"
      ]
     },
     "execution_count": 79,
     "metadata": {},
     "output_type": "execute_result"
    }
   ],
   "source": [
    "mlff_flow"
   ]
  },
  {
   "cell_type": "markdown",
   "id": "b2986d4c-f368-4877-88de-1d237e40ebd6",
   "metadata": {
    "jp-MarkdownHeadingCollapsed": true,
    "tags": []
   },
   "source": [
    "##### Test via Jobflow (run_locally)"
   ]
  },
  {
   "cell_type": "code",
   "execution_count": null,
   "id": "41aa527b",
   "metadata": {},
   "outputs": [],
   "source": [
    "# Create wf_calc_dir so outputs of the workflow can be run and stored here\n",
    "wf_calc_dir = calc_dir + \"/5_13/wf/run_locally_run\"\n",
    "\n",
    "# Check if the directory exists, and create it if it doesn't\n",
    "if not os.path.exists(write_calc_dir):\n",
    "    os.makedirs(write_calc_dir)\n",
    "\n",
    "# Change to the run directory\n",
    "os.chdir(write_calc_dir)  # Important\n",
    "!pwd"
   ]
  },
  {
   "cell_type": "code",
   "execution_count": null,
   "id": "e38783f0-404a-4fcf-b00c-56553169f10e",
   "metadata": {
    "tags": []
   },
   "outputs": [
    {
     "name": "stdout",
     "output_type": "stream",
     "text": [
      "2025-01-21 11:34:53,061 INFO Started executing jobs locally\n",
      "2025-01-21 11:34:53,065 INFO Starting job - generate_rattled (dfa0ccc3-d351-45f4-b99c-a5c9f6f540c5)\n",
      "[Structure Summary\n",
      "Lattice\n",
      "    abc : 3.84 3.8399999999999994 3.84\n",
      " angles : 119.99999999999999 90.0 60.00000000000001\n",
      " volume : 40.038580810231124\n",
      "      A : np.float64(3.84) np.float64(0.0) np.float64(2.351321854362918e-16)\n",
      "      B : np.float64(1.92) np.float64(2.7152900397563426) np.float64(-1.919999999999999)\n",
      "      C : np.float64(0.0) np.float64(0.0) np.float64(3.84)\n",
      "    pbc : True True True\n",
      "PeriodicSite: Si (1.901, 0.896, 0.6336) [0.33, 0.33, 0.33]\n",
      "PeriodicSite: Si (3.84, 1.358, 1.92) [0.75, 0.5, 0.75], Structure Summary\n",
      "Lattice\n",
      "    abc : 3.84 3.8399999999999994 3.84\n",
      " angles : 119.99999999999999 90.0 60.00000000000001\n",
      " volume : 40.038580810231124\n",
      "      A : np.float64(3.84) np.float64(0.0) np.float64(2.351321854362918e-16)\n",
      "      B : np.float64(1.92) np.float64(2.7152900397563426) np.float64(-1.919999999999999)\n",
      "      C : np.float64(0.0) np.float64(0.0) np.float64(3.84)\n",
      "    pbc : True True True\n",
      "PeriodicSite: Si (1.901, 0.896, 0.6336) [0.33, 0.33, 0.33]\n",
      "PeriodicSite: Si (3.84, 1.358, 1.92) [0.75, 0.5, 0.75]]\n",
      "2025-01-21 11:34:53,110 INFO Finished job - generate_rattled (dfa0ccc3-d351-45f4-b99c-a5c9f6f540c5)\n",
      "2025-01-21 11:34:53,111 INFO Starting job - run_scf_job (347d8cf6-3047-4cc5-b42c-c80839abe99d)\n",
      "2025-01-21 11:34:53,478 INFO Finished job - run_scf_job (347d8cf6-3047-4cc5-b42c-c80839abe99d)\n",
      "2025-01-21 11:34:53,481 INFO Starting job - static (bb9f97ab-da61-4df9-ae57-a2bb04ebc812)\n"
     ]
    },
    {
     "name": "stderr",
     "output_type": "stream",
     "text": [
      "/global/homes/b/bfune/.conda/envs/atomate2/lib/python3.10/site-packages/pymatgen/io/vasp/inputs.py:2420: EncodingWarning: We strongly encourage explicit `encoding`, and we would use UTF-8 by default as per PEP 686\n",
      "  with zopen(filename, mode=\"rt\") as file:\n",
      "/global/homes/b/bfune/.conda/envs/atomate2/lib/python3.10/site-packages/pymatgen/io/vasp/inputs.py:2985: EncodingWarning: We strongly encourage explicit `encoding`, and we would use UTF-8 by default as per PEP 686\n",
      "  with zopen(os.path.join(output_dir, key), mode=\"wt\") as file:\n",
      "/global/homes/b/bfune/.conda/envs/atomate2/lib/python3.10/site-packages/pymatgen/io/vasp/inputs.py:908: EncodingWarning: We strongly encourage explicit `encoding`, and we would use UTF-8 by default as per PEP 686\n",
      "  with zopen(filename, mode=\"rt\") as file:\n",
      "/global/homes/b/bfune/.conda/envs/atomate2/lib/python3.10/site-packages/custodian/vasp/handlers.py:185: EncodingWarning: We strongly encourage explicit `encoding`, and we would use UTF-8 by default as per PEP 686\n",
      "  with zopen(os.path.join(directory, self.output_filename), mode=\"rt\") as file:\n",
      "/global/homes/b/bfune/.conda/envs/atomate2/lib/python3.10/site-packages/pymatgen/io/vasp/inputs.py:1648: EncodingWarning: We strongly encourage explicit `encoding`, and we would use UTF-8 by default as per PEP 686\n",
      "  with zopen(filename, mode=\"rt\") as file:\n",
      "/global/homes/b/bfune/.conda/envs/atomate2/lib/python3.10/site-packages/pymatgen/io/vasp/inputs.py:2826: EncodingWarning: We strongly encourage explicit `encoding`, and we would use UTF-8 by default as per PEP 686\n",
      "  with zopen(filename, mode=\"rt\") as file:\n",
      "/global/homes/b/bfune/.conda/envs/atomate2/lib/python3.10/site-packages/pymatgen/io/vasp/inputs.py:287: EncodingWarning: We strongly encourage explicit `encoding`, and we would use UTF-8 by default as per PEP 686\n",
      "  with zopen(filename, mode=\"rt\") as file:\n",
      "/global/homes/b/bfune/.conda/envs/atomate2/lib/python3.10/site-packages/pymatgen/io/vasp/outputs.py:4356: EncodingWarning: We strongly encourage explicit `encoding`, and we would use UTF-8 by default as per PEP 686\n",
      "  with zopen(filename, mode=\"rt\") as fid:\n",
      "/global/homes/b/bfune/.conda/envs/atomate2/lib/python3.10/site-packages/pymatgen/io/vasp/outputs.py:2114: EncodingWarning: We strongly encourage explicit `encoding`, and we would use UTF-8 by default as per PEP 686\n",
      "  with zopen(filename, mode=\"rt\") as file:\n",
      "/global/homes/b/bfune/.conda/envs/atomate2/lib/python3.10/site-packages/pymatgen/io/vasp/outputs.py:2365: EncodingWarning: We strongly encourage explicit `encoding`, and we would use UTF-8 by default as per PEP 686\n",
      "  with zopen(self.filename, mode=\"rt\") as file:\n",
      "/global/homes/b/bfune/.conda/envs/atomate2/lib/python3.10/site-packages/pymatgen/io/vasp/outputs.py:312: EncodingWarning: We strongly encourage explicit `encoding`, and we would use UTF-8 by default as per PEP 686\n",
      "  with zopen(filename, mode=\"rt\") as file:\n",
      "/global/homes/b/bfune/.conda/envs/atomate2/lib/python3.10/site-packages/pymatgen/io/vasp/outputs.py:3598: EncodingWarning: We strongly encourage explicit `encoding`, and we would use UTF-8 by default as per PEP 686\n",
      "  with zopen(filename, mode=\"rt\") as file:\n"
     ]
    },
    {
     "name": "stdout",
     "output_type": "stream",
     "text": [
      "2025-01-21 11:35:59,232 INFO Finished job - static (bb9f97ab-da61-4df9-ae57-a2bb04ebc812)\n",
      "2025-01-21 11:35:59,232 WARNING Response.stored_data is not supported with local manager.\n",
      "2025-01-21 11:35:59,233 INFO Starting job - static (995a6ada-3891-4a43-affa-a3f8ab771420)\n"
     ]
    },
    {
     "name": "stderr",
     "output_type": "stream",
     "text": [
      "/global/homes/b/bfune/.conda/envs/atomate2/lib/python3.10/site-packages/pymatgen/io/vasp/inputs.py:2420: EncodingWarning: We strongly encourage explicit `encoding`, and we would use UTF-8 by default as per PEP 686\n",
      "  with zopen(filename, mode=\"rt\") as file:\n",
      "/global/homes/b/bfune/.conda/envs/atomate2/lib/python3.10/site-packages/pymatgen/io/vasp/inputs.py:2985: EncodingWarning: We strongly encourage explicit `encoding`, and we would use UTF-8 by default as per PEP 686\n",
      "  with zopen(os.path.join(output_dir, key), mode=\"wt\") as file:\n"
     ]
    },
    {
     "ename": "KeyboardInterrupt",
     "evalue": "",
     "output_type": "error",
     "traceback": [
      "\u001b[0;31m---------------------------------------------------------------------------\u001b[0m",
      "\u001b[0;31mKeyboardInterrupt\u001b[0m                         Traceback (most recent call last)",
      "Cell \u001b[0;32mIn[18], line 5\u001b[0m\n\u001b[1;32m      2\u001b[0m calc_dir \u001b[38;5;241m=\u001b[39m \u001b[38;5;124m\"\u001b[39m\u001b[38;5;124m/global/cfs/cdirs/m4537/bfune/mlff_runs/1_21/meeting_runs\u001b[39m\u001b[38;5;124m\"\u001b[39m\n\u001b[1;32m      3\u001b[0m os\u001b[38;5;241m.\u001b[39mchdir(calc_dir) \u001b[38;5;66;03m# important\u001b[39;00m\n\u001b[0;32m----> 5\u001b[0m mlff_response \u001b[38;5;241m=\u001b[39m \u001b[43mrun_locally\u001b[49m\u001b[43m(\u001b[49m\u001b[43mmlff_flow\u001b[49m\u001b[43m)\u001b[49m\n",
      "File \u001b[0;32m~/.conda/envs/atomate2/lib/python3.10/site-packages/jobflow/managers/local.py:180\u001b[0m, in \u001b[0;36mrun_locally\u001b[0;34m(flow, log, store, create_folders, root_dir, ensure_success, allow_external_references, raise_immediately)\u001b[0m\n\u001b[1;32m    177\u001b[0m     \u001b[38;5;28;01mreturn\u001b[39;00m \u001b[38;5;129;01mnot\u001b[39;00m encountered_bad_response\n\u001b[1;32m    179\u001b[0m logger\u001b[38;5;241m.\u001b[39minfo(\u001b[38;5;124m\"\u001b[39m\u001b[38;5;124mStarted executing jobs locally\u001b[39m\u001b[38;5;124m\"\u001b[39m)\n\u001b[0;32m--> 180\u001b[0m finished_successfully \u001b[38;5;241m=\u001b[39m \u001b[43m_run\u001b[49m\u001b[43m(\u001b[49m\u001b[43mflow\u001b[49m\u001b[43m)\u001b[49m\n\u001b[1;32m    181\u001b[0m logger\u001b[38;5;241m.\u001b[39minfo(\u001b[38;5;124m\"\u001b[39m\u001b[38;5;124mFinished executing jobs locally\u001b[39m\u001b[38;5;124m\"\u001b[39m)\n\u001b[1;32m    183\u001b[0m \u001b[38;5;28;01mif\u001b[39;00m ensure_success \u001b[38;5;129;01mand\u001b[39;00m \u001b[38;5;129;01mnot\u001b[39;00m finished_successfully:\n",
      "File \u001b[0;32m~/.conda/envs/atomate2/lib/python3.10/site-packages/jobflow/managers/local.py:169\u001b[0m, in \u001b[0;36mrun_locally.<locals>._run\u001b[0;34m(root_flow)\u001b[0m\n\u001b[1;32m    167\u001b[0m job_dir \u001b[38;5;241m=\u001b[39m _get_job_dir()\n\u001b[1;32m    168\u001b[0m \u001b[38;5;28;01mwith\u001b[39;00m cd(job_dir):\n\u001b[0;32m--> 169\u001b[0m     response, jobflow_stopped \u001b[38;5;241m=\u001b[39m \u001b[43m_run_job\u001b[49m\u001b[43m(\u001b[49m\u001b[43mjob\u001b[49m\u001b[43m,\u001b[49m\u001b[43m \u001b[49m\u001b[43mparents\u001b[49m\u001b[43m)\u001b[49m\n\u001b[1;32m    171\u001b[0m \u001b[38;5;28;01mif\u001b[39;00m response \u001b[38;5;129;01mis\u001b[39;00m \u001b[38;5;129;01mnot\u001b[39;00m \u001b[38;5;28;01mNone\u001b[39;00m:\n\u001b[1;32m    172\u001b[0m     response\u001b[38;5;241m.\u001b[39mjob_dir \u001b[38;5;241m=\u001b[39m job_dir\n",
      "File \u001b[0;32m~/.conda/envs/atomate2/lib/python3.10/site-packages/jobflow/managers/local.py:142\u001b[0m, in \u001b[0;36mrun_locally.<locals>._run_job\u001b[0;34m(job, parents)\u001b[0m\n\u001b[1;32m    139\u001b[0m diversion_responses \u001b[38;5;241m=\u001b[39m []\n\u001b[1;32m    140\u001b[0m \u001b[38;5;28;01mif\u001b[39;00m response\u001b[38;5;241m.\u001b[39mreplace \u001b[38;5;129;01mis\u001b[39;00m \u001b[38;5;129;01mnot\u001b[39;00m \u001b[38;5;28;01mNone\u001b[39;00m:\n\u001b[1;32m    141\u001b[0m     \u001b[38;5;66;03m# first run any restarts\u001b[39;00m\n\u001b[0;32m--> 142\u001b[0m     diversion_responses\u001b[38;5;241m.\u001b[39mappend(\u001b[43m_run\u001b[49m\u001b[43m(\u001b[49m\u001b[43mresponse\u001b[49m\u001b[38;5;241;43m.\u001b[39;49m\u001b[43mreplace\u001b[49m\u001b[43m)\u001b[49m)\n\u001b[1;32m    144\u001b[0m \u001b[38;5;28;01mif\u001b[39;00m response\u001b[38;5;241m.\u001b[39mdetour \u001b[38;5;129;01mis\u001b[39;00m \u001b[38;5;129;01mnot\u001b[39;00m \u001b[38;5;28;01mNone\u001b[39;00m:\n\u001b[1;32m    145\u001b[0m     \u001b[38;5;66;03m# next any detours\u001b[39;00m\n\u001b[1;32m    146\u001b[0m     diversion_responses\u001b[38;5;241m.\u001b[39mappend(_run(response\u001b[38;5;241m.\u001b[39mdetour))\n",
      "File \u001b[0;32m~/.conda/envs/atomate2/lib/python3.10/site-packages/jobflow/managers/local.py:169\u001b[0m, in \u001b[0;36mrun_locally.<locals>._run\u001b[0;34m(root_flow)\u001b[0m\n\u001b[1;32m    167\u001b[0m job_dir \u001b[38;5;241m=\u001b[39m _get_job_dir()\n\u001b[1;32m    168\u001b[0m \u001b[38;5;28;01mwith\u001b[39;00m cd(job_dir):\n\u001b[0;32m--> 169\u001b[0m     response, jobflow_stopped \u001b[38;5;241m=\u001b[39m \u001b[43m_run_job\u001b[49m\u001b[43m(\u001b[49m\u001b[43mjob\u001b[49m\u001b[43m,\u001b[49m\u001b[43m \u001b[49m\u001b[43mparents\u001b[49m\u001b[43m)\u001b[49m\n\u001b[1;32m    171\u001b[0m \u001b[38;5;28;01mif\u001b[39;00m response \u001b[38;5;129;01mis\u001b[39;00m \u001b[38;5;129;01mnot\u001b[39;00m \u001b[38;5;28;01mNone\u001b[39;00m:\n\u001b[1;32m    172\u001b[0m     response\u001b[38;5;241m.\u001b[39mjob_dir \u001b[38;5;241m=\u001b[39m job_dir\n",
      "File \u001b[0;32m~/.conda/envs/atomate2/lib/python3.10/site-packages/jobflow/managers/local.py:117\u001b[0m, in \u001b[0;36mrun_locally.<locals>._run_job\u001b[0;34m(job, parents)\u001b[0m\n\u001b[1;32m    115\u001b[0m \u001b[38;5;28;01melse\u001b[39;00m:\n\u001b[1;32m    116\u001b[0m     \u001b[38;5;28;01mtry\u001b[39;00m:\n\u001b[0;32m--> 117\u001b[0m         response \u001b[38;5;241m=\u001b[39m \u001b[43mjob\u001b[49m\u001b[38;5;241;43m.\u001b[39;49m\u001b[43mrun\u001b[49m\u001b[43m(\u001b[49m\u001b[43mstore\u001b[49m\u001b[38;5;241;43m=\u001b[39;49m\u001b[43mstore\u001b[49m\u001b[43m)\u001b[49m\n\u001b[1;32m    118\u001b[0m     \u001b[38;5;28;01mexcept\u001b[39;00m \u001b[38;5;167;01mException\u001b[39;00m:\n\u001b[1;32m    119\u001b[0m         \u001b[38;5;28;01mimport\u001b[39;00m \u001b[38;5;21;01mtraceback\u001b[39;00m\n",
      "File \u001b[0;32m~/.conda/envs/atomate2/lib/python3.10/site-packages/jobflow/core/job.py:604\u001b[0m, in \u001b[0;36mJob.run\u001b[0;34m(self, store, job_dir)\u001b[0m\n\u001b[1;32m    601\u001b[0m \u001b[38;5;28;01mif\u001b[39;00m bound \u001b[38;5;129;01mis\u001b[39;00m \u001b[38;5;129;01mnot\u001b[39;00m \u001b[38;5;28;01mNone\u001b[39;00m \u001b[38;5;129;01mand\u001b[39;00m \u001b[38;5;129;01mnot\u001b[39;00m \u001b[38;5;28misinstance\u001b[39m(bound, types\u001b[38;5;241m.\u001b[39mModuleType):\n\u001b[1;32m    602\u001b[0m     function \u001b[38;5;241m=\u001b[39m types\u001b[38;5;241m.\u001b[39mMethodType(function, bound)\n\u001b[0;32m--> 604\u001b[0m response \u001b[38;5;241m=\u001b[39m \u001b[43mfunction\u001b[49m\u001b[43m(\u001b[49m\u001b[38;5;241;43m*\u001b[39;49m\u001b[38;5;28;43mself\u001b[39;49m\u001b[38;5;241;43m.\u001b[39;49m\u001b[43mfunction_args\u001b[49m\u001b[43m,\u001b[49m\u001b[43m \u001b[49m\u001b[38;5;241;43m*\u001b[39;49m\u001b[38;5;241;43m*\u001b[39;49m\u001b[38;5;28;43mself\u001b[39;49m\u001b[38;5;241;43m.\u001b[39;49m\u001b[43mfunction_kwargs\u001b[49m\u001b[43m)\u001b[49m\n\u001b[1;32m    605\u001b[0m response \u001b[38;5;241m=\u001b[39m Response\u001b[38;5;241m.\u001b[39mfrom_job_returns(\n\u001b[1;32m    606\u001b[0m     response, \u001b[38;5;28mself\u001b[39m\u001b[38;5;241m.\u001b[39moutput_schema, job_dir\u001b[38;5;241m=\u001b[39mjob_dir\n\u001b[1;32m    607\u001b[0m )\n\u001b[1;32m    609\u001b[0m \u001b[38;5;28;01mif\u001b[39;00m response\u001b[38;5;241m.\u001b[39mreplace \u001b[38;5;129;01mis\u001b[39;00m \u001b[38;5;129;01mnot\u001b[39;00m \u001b[38;5;28;01mNone\u001b[39;00m:\n",
      "File \u001b[0;32m~/.conda/envs/atomate2/lib/python3.10/site-packages/atomate2/vasp/jobs/base.py:228\u001b[0m, in \u001b[0;36mBaseVaspMaker.make\u001b[0;34m(self, structure, prev_dir)\u001b[0m\n\u001b[1;32m    225\u001b[0m     dumpfn(data, filename\u001b[38;5;241m.\u001b[39mreplace(\u001b[38;5;124m\"\u001b[39m\u001b[38;5;124m:\u001b[39m\u001b[38;5;124m\"\u001b[39m, \u001b[38;5;124m\"\u001b[39m\u001b[38;5;124m.\u001b[39m\u001b[38;5;124m\"\u001b[39m))\n\u001b[1;32m    227\u001b[0m \u001b[38;5;66;03m# run vasp\u001b[39;00m\n\u001b[0;32m--> 228\u001b[0m \u001b[43mrun_vasp\u001b[49m\u001b[43m(\u001b[49m\u001b[38;5;241;43m*\u001b[39;49m\u001b[38;5;241;43m*\u001b[39;49m\u001b[38;5;28;43mself\u001b[39;49m\u001b[38;5;241;43m.\u001b[39;49m\u001b[43mrun_vasp_kwargs\u001b[49m\u001b[43m)\u001b[49m\n\u001b[1;32m    230\u001b[0m \u001b[38;5;66;03m# parse vasp outputs\u001b[39;00m\n\u001b[1;32m    231\u001b[0m task_doc \u001b[38;5;241m=\u001b[39m get_vasp_task_document(Path\u001b[38;5;241m.\u001b[39mcwd(), \u001b[38;5;241m*\u001b[39m\u001b[38;5;241m*\u001b[39m\u001b[38;5;28mself\u001b[39m\u001b[38;5;241m.\u001b[39mtask_document_kwargs)\n",
      "File \u001b[0;32m~/.conda/envs/atomate2/lib/python3.10/site-packages/atomate2/vasp/run.py:161\u001b[0m, in \u001b[0;36mrun_vasp\u001b[0;34m(job_type, vasp_cmd, vasp_gamma_cmd, max_errors, scratch_dir, handlers, validators, wall_time, vasp_job_kwargs, custodian_kwargs)\u001b[0m\n\u001b[1;32m    151\u001b[0m custodian_manager \u001b[38;5;241m=\u001b[39m Custodian(\n\u001b[1;32m    152\u001b[0m     handlers,\n\u001b[1;32m    153\u001b[0m     jobs,\n\u001b[0;32m   (...)\u001b[0m\n\u001b[1;32m    157\u001b[0m     \u001b[38;5;241m*\u001b[39m\u001b[38;5;241m*\u001b[39mcustodian_kwargs,\n\u001b[1;32m    158\u001b[0m )\n\u001b[1;32m    160\u001b[0m logger\u001b[38;5;241m.\u001b[39minfo(\u001b[38;5;124m\"\u001b[39m\u001b[38;5;124mRunning VASP using custodian.\u001b[39m\u001b[38;5;124m\"\u001b[39m)\n\u001b[0;32m--> 161\u001b[0m \u001b[43mcustodian_manager\u001b[49m\u001b[38;5;241;43m.\u001b[39;49m\u001b[43mrun\u001b[49m\u001b[43m(\u001b[49m\u001b[43m)\u001b[49m\n",
      "File \u001b[0;32m~/.conda/envs/atomate2/lib/python3.10/site-packages/custodian/custodian.py:385\u001b[0m, in \u001b[0;36mCustodian.run\u001b[0;34m(self)\u001b[0m\n\u001b[1;32m    382\u001b[0m \u001b[38;5;28;01mtry\u001b[39;00m:\n\u001b[1;32m    383\u001b[0m     \u001b[38;5;66;03m# skip jobs until the restart\u001b[39;00m\n\u001b[1;32m    384\u001b[0m     \u001b[38;5;28;01mfor\u001b[39;00m job_n, job \u001b[38;5;129;01min\u001b[39;00m islice(\u001b[38;5;28menumerate\u001b[39m(\u001b[38;5;28mself\u001b[39m\u001b[38;5;241m.\u001b[39mjobs, start\u001b[38;5;241m=\u001b[39m\u001b[38;5;241m1\u001b[39m), \u001b[38;5;28mself\u001b[39m\u001b[38;5;241m.\u001b[39mrestart, \u001b[38;5;28;01mNone\u001b[39;00m):\n\u001b[0;32m--> 385\u001b[0m         \u001b[38;5;28;43mself\u001b[39;49m\u001b[38;5;241;43m.\u001b[39;49m\u001b[43m_run_job\u001b[49m\u001b[43m(\u001b[49m\u001b[43mjob_n\u001b[49m\u001b[43m,\u001b[49m\u001b[43m \u001b[49m\u001b[43mjob\u001b[49m\u001b[43m)\u001b[49m\n\u001b[1;32m    386\u001b[0m         \u001b[38;5;66;03m# We do a dump of the run log after each job.\u001b[39;00m\n\u001b[1;32m    387\u001b[0m         dumpfn(\u001b[38;5;28mself\u001b[39m\u001b[38;5;241m.\u001b[39mrun_log, os\u001b[38;5;241m.\u001b[39mpath\u001b[38;5;241m.\u001b[39mjoin(\u001b[38;5;28mself\u001b[39m\u001b[38;5;241m.\u001b[39mdirectory, Custodian\u001b[38;5;241m.\u001b[39mLOG_FILE), \u001b[38;5;28mcls\u001b[39m\u001b[38;5;241m=\u001b[39mMontyEncoder, indent\u001b[38;5;241m=\u001b[39m\u001b[38;5;241m4\u001b[39m)\n",
      "File \u001b[0;32m~/.conda/envs/atomate2/lib/python3.10/site-packages/custodian/custodian.py:476\u001b[0m, in \u001b[0;36mCustodian._run_job\u001b[0;34m(self, job_n, job)\u001b[0m\n\u001b[1;32m    474\u001b[0m \u001b[38;5;28;01mwhile\u001b[39;00m \u001b[38;5;28;01mTrue\u001b[39;00m:\n\u001b[1;32m    475\u001b[0m     n \u001b[38;5;241m+\u001b[39m\u001b[38;5;241m=\u001b[39m \u001b[38;5;241m1\u001b[39m\n\u001b[0;32m--> 476\u001b[0m     \u001b[43mtime\u001b[49m\u001b[38;5;241;43m.\u001b[39;49m\u001b[43msleep\u001b[49m\u001b[43m(\u001b[49m\u001b[38;5;28;43mself\u001b[39;49m\u001b[38;5;241;43m.\u001b[39;49m\u001b[43mpolling_time_step\u001b[49m\u001b[43m)\u001b[49m\n\u001b[1;32m    477\u001b[0m     \u001b[38;5;66;03m# We poll the process p to check if it is still running.\u001b[39;00m\n\u001b[1;32m    478\u001b[0m     \u001b[38;5;66;03m# Note that the process here is not the actual calculation\u001b[39;00m\n\u001b[1;32m    479\u001b[0m     \u001b[38;5;66;03m# but whatever is used to control the execution of the\u001b[39;00m\n\u001b[1;32m    480\u001b[0m     \u001b[38;5;66;03m# calculation executable. For instance; mpirun, srun, and so on.\u001b[39;00m\n\u001b[1;32m    481\u001b[0m     \u001b[38;5;28;01mif\u001b[39;00m p\u001b[38;5;241m.\u001b[39mpoll() \u001b[38;5;129;01mis\u001b[39;00m \u001b[38;5;129;01mnot\u001b[39;00m \u001b[38;5;28;01mNone\u001b[39;00m:\n",
      "\u001b[0;31mKeyboardInterrupt\u001b[0m: "
     ]
    }
   ],
   "source": [
    "# Run the flow locally\n",
    "mlff_response = run_locally(mlff_flow)"
   ]
  },
  {
   "cell_type": "markdown",
   "id": "b65241ed-779e-41dd-b888-ddf3477092ee",
   "metadata": {
    "tags": []
   },
   "source": [
    "##### Test via Fireworks (launch_rocket & launch_rocket_to_queue)"
   ]
  },
  {
   "cell_type": "code",
   "execution_count": 80,
   "id": "69d79e23-ed02-4dd7-84d6-e659357f33d0",
   "metadata": {
    "tags": []
   },
   "outputs": [],
   "source": [
    "# Convert Flow to Workflow\n",
    "mlff_wf = flow_to_workflow(mlff_flow)"
   ]
  },
  {
   "cell_type": "code",
   "execution_count": 81,
   "id": "c0c95adc-ce13-45e5-a470-b6ed6d21992d",
   "metadata": {
    "tags": []
   },
   "outputs": [
    {
     "data": {
      "text/plain": [
       "'forge force field workflow'"
      ]
     },
     "execution_count": 81,
     "metadata": {},
     "output_type": "execute_result"
    }
   ],
   "source": [
    "mlff_wf.name"
   ]
  },
  {
   "cell_type": "code",
   "execution_count": null,
   "id": "ed7d9a73-4dfd-4618-8976-1e9339e68c3c",
   "metadata": {},
   "outputs": [],
   "source": [
    "# To add metadata\n",
    "mlff_wf.metadata[\"hash_id_test\"] = \"meeting_run\""
   ]
  },
  {
   "cell_type": "code",
   "execution_count": 83,
   "id": "ef22edd3-141b-4a91-98b4-cd9b1cf32b19",
   "metadata": {},
   "outputs": [
    {
     "data": {
      "text/plain": [
       "{'hash_id_test': 'meeting_run'}"
      ]
     },
     "execution_count": 83,
     "metadata": {},
     "output_type": "execute_result"
    }
   ],
   "source": [
    "mlff_wf.metadata"
   ]
  },
  {
   "cell_type": "code",
   "execution_count": null,
   "id": "c1aa5459-35e1-4d56-bdfe-1b581c308663",
   "metadata": {
    "tags": []
   },
   "outputs": [],
   "source": [
    "# Create wf_calc_dir so outputs of the workflow can be run and stored here\n",
    "wf_calc_dir = calc_dir + \"/5_13/wf/launch_fw_run\"\n",
    "\n",
    "# Check if the directory exists, and create it if it doesn't\n",
    "if not os.path.exists(write_calc_dir):\n",
    "    os.makedirs(write_calc_dir)\n",
    "\n",
    "# Change to the run directory\n",
    "os.chdir(write_calc_dir)  # Important: change to working directory\n",
    "!pwd"
   ]
  },
  {
   "cell_type": "code",
   "execution_count": 2,
   "id": "e04062c4-3027-456e-a378-5880edfe8a1e",
   "metadata": {
    "tags": []
   },
   "outputs": [],
   "source": [
    "# Initialize launch objects\n",
    "mlff_lpad = LaunchPad.from_file('/global/homes/b/bfune/fw_config/my_launchpad.yaml')\n",
    "mlff_fworker = FWorker.from_file('/global/homes/b/bfune/fw_config/my_fworker.yaml')\n",
    "mlff_qadapter = load_object_from_file(\"/global/homes/b/bfune/fw_config/my_qadapter.yaml\")"
   ]
  },
  {
   "cell_type": "code",
   "execution_count": 17,
   "id": "36320378-ea59-4a98-9e23-19dc4cfde5f2",
   "metadata": {},
   "outputs": [
    {
     "data": {
      "text/plain": [
       "[13, 14, 15, 16, 17, 18]"
      ]
     },
     "execution_count": 17,
     "metadata": {},
     "output_type": "execute_result"
    }
   ],
   "source": [
    "# Query fws of wfs based on metadata.workflow_id\n",
    "mlff_lpad.get_fw_ids_in_wfs(wf_query={\"metadata.workflow_id\": \"67cd15f7c407a6edfdcd6f79\"})"
   ]
  },
  {
   "cell_type": "code",
   "execution_count": 19,
   "id": "a55c0d5a-7bad-4bc6-a5ec-955ef01d0a27",
   "metadata": {},
   "outputs": [
    {
     "name": "stdout",
     "output_type": "stream",
     "text": [
      "13\n"
     ]
    }
   ],
   "source": [
    "# Query root fw of wf based on lpad\n",
    "root_id_list = mlff_lpad.get_wf_ids(query={\"metadata.workflow_id\": \"67cd15f7c407a6edfdcd6f79\"})\n",
    "root_id = root_id_list[0]\n",
    "print(root_id)"
   ]
  },
  {
   "cell_type": "code",
   "execution_count": 22,
   "id": "eadf6cce-4796-4a45-a53c-d99092423bb3",
   "metadata": {},
   "outputs": [
    {
     "data": {
      "text/plain": [
       "{13: [], 14: [13, 17, 18], 15: [14], 16: [13], 17: [16], 18: [16]}"
      ]
     },
     "execution_count": 22,
     "metadata": {},
     "output_type": "execute_result"
    }
   ],
   "source": [
    "# Query links of wf\n",
    "mlff_lpad.get_wf_by_fw_id(root_id).links"
   ]
  },
  {
   "cell_type": "code",
   "execution_count": 32,
   "id": "8ebc578d-d2be-4176-a2c8-6b1a9d584f2f",
   "metadata": {},
   "outputs": [
    {
     "data": {
      "text/plain": [
       "{13: 'WAITING',\n",
       " 14: 'COMPLETED',\n",
       " 15: 'COMPLETED',\n",
       " 16: 'WAITING',\n",
       " 17: 'READY',\n",
       " 18: 'READY'}"
      ]
     },
     "execution_count": 32,
     "metadata": {},
     "output_type": "execute_result"
    }
   ],
   "source": [
    "# Query states of wf\n",
    "wf_states = mlff_lpad.get_wf_by_fw_id(root_id).fw_states\n",
    "wf_states"
   ]
  },
  {
   "cell_type": "code",
   "execution_count": 33,
   "id": "ac4c4ec2-8660-4589-9d46-4c8ce24b9a23",
   "metadata": {},
   "outputs": [
    {
     "name": "stdout",
     "output_type": "stream",
     "text": [
      "{17: 'READY', 18: 'READY'}\n"
     ]
    }
   ],
   "source": [
    "# Filter READY fws\n",
    "wf_ready_states= {fw_id: state for fw_id, state in wf_states.items() if state=='READY'}\n",
    "print(wf_ready_states)"
   ]
  },
  {
   "cell_type": "code",
   "execution_count": null,
   "id": "c77314ee-70d2-4211-92fc-9a6bda5b726c",
   "metadata": {},
   "outputs": [],
   "source": [
    "# Launch all READY fws\n",
    "for fw_id, state in wf_ready_states:\n",
    "    # Submit job to queue\n",
    "    launch_rocket_to_queue(\n",
    "        mlff_lpad,\n",
    "        mlff_fworker,\n",
    "        mlff_qadapter,\n",
    "        reserve=True,\n",
    "        launcher_dir=wf_calc_dir,\n",
    "        strm_lvl=\"DEBUG\",\n",
    "        fw_id=fw_id) "
   ]
  },
  {
   "cell_type": "code",
   "execution_count": 86,
   "id": "876f84db-6759-4c14-a28c-c98ceb608331",
   "metadata": {
    "tags": []
   },
   "outputs": [
    {
     "name": "stdout",
     "output_type": "stream",
     "text": [
      "2025-01-21 12:18:14,304 INFO Added a workflow. id_map: {-12: 18, -11: 19, -10: 20}\n"
     ]
    }
   ],
   "source": [
    "# Important: reset lpad\n",
    "mlff_fw_id_map = mlff_lpad.add_wf(mlff_wf) # Add workflow to launchpad"
   ]
  },
  {
   "cell_type": "code",
   "execution_count": 87,
   "id": "15426633-7fcf-40fe-91f1-1902d017f781",
   "metadata": {},
   "outputs": [
    {
     "data": {
      "text/plain": [
       "{-12: 18, -11: 19, -10: 20}"
      ]
     },
     "execution_count": 87,
     "metadata": {},
     "output_type": "execute_result"
    }
   ],
   "source": [
    "mlff_fw_id_map"
   ]
  },
  {
   "cell_type": "code",
   "execution_count": 104,
   "id": "1c1ce6ee-3e1e-4ed1-b117-f0acb2b76825",
   "metadata": {},
   "outputs": [
    {
     "data": {
      "text/plain": [
       "[20]"
      ]
     },
     "execution_count": 104,
     "metadata": {},
     "output_type": "execute_result"
    }
   ],
   "source": [
    "mlff_wf.root_fw_ids"
   ]
  },
  {
   "cell_type": "code",
   "execution_count": 106,
   "id": "1a87fd26-59de-433d-9189-6fad74e1a18b",
   "metadata": {},
   "outputs": [
    {
     "data": {
      "text/plain": [
       "{18: [], 19: [18, 22, 23], 20: [19], 21: [18], 22: [21], 23: [21]}"
      ]
     },
     "execution_count": 106,
     "metadata": {},
     "output_type": "execute_result"
    }
   ],
   "source": [
    "mlff_lpad.get_wf_by_fw_id(20).links"
   ]
  },
  {
   "cell_type": "code",
   "execution_count": null,
   "id": "9885282b-ee93-4f75-9d26-8d75865dad0d",
   "metadata": {},
   "outputs": [
    {
     "name": "stdout",
     "output_type": "stream",
     "text": [
      "2025-01-21 12:12:50,159 DEBUG getting queue adapter\n",
      "2025-01-21 12:12:50,166 DEBUG finding a FW to reserve...\n",
      "2025-01-21 12:12:50,183 INFO reserved FW with fw_id: 17\n",
      "2025-01-21 12:12:50,183 INFO moving to launch_dir /global/cfs/cdirs/m4537/bfune/mlff_runs/1_21/fws_run\n",
      "2025-01-21 12:12:50,184 DEBUG writing queue script\n",
      "2025-01-21 12:12:50,188 INFO submitting queue script\n"
     ]
    }
   ],
   "source": [
    "for fw_id, state in mlff_wf.fw_states.items():\n",
    "    if state == 'READY':\n",
    "        # Submit job to queue\n",
    "        launch_rocket_to_queue(\n",
    "            mlff_lpad,\n",
    "            mlff_fworker,\n",
    "            mlff_qadapter,\n",
    "            reserve=True,\n",
    "            launcher_dir=wf_calc_dir,\n",
    "            strm_lvl=\"DEBUG\",\n",
    "            fw_id=fw_id) # TODO: dynamically determine value, right now, there should only be 1 static job to submit to queue"
   ]
  },
  {
   "cell_type": "code",
   "execution_count": 31,
   "id": "ad7f8c14-4286-4360-afae-77dfec8d0305",
   "metadata": {
    "tags": []
   },
   "outputs": [
    {
     "name": "stdout",
     "output_type": "stream",
     "text": [
      "Run FW id: 10\n"
     ]
    }
   ],
   "source": [
    "run_fw_id = list(mlff_fw_id_map.values())[1]  # This gets the value of the second pair (2 in this case)\n",
    "print(f\"Run FW id: {run_fw_id}\")"
   ]
  },
  {
   "cell_type": "code",
   "execution_count": 89,
   "id": "91fe8c81-9018-40e9-8ed0-703f24a1aad4",
   "metadata": {},
   "outputs": [
    {
     "name": "stdout",
     "output_type": "stream",
     "text": [
      "2025-01-21 12:18:32,363 INFO Launching Rocket\n",
      "2025-01-21 12:18:32,383 INFO RUNNING fw_id: 20 in directory: /global/cfs/cdirs/m4537/bfune/mlff_runs/1_21/fws_run_2\n",
      "2025-01-21 12:18:32,391 INFO Task started: {{jobflow.managers.fireworks.JobFiretask}}.\n",
      "2025-01-21 12:18:32,392 INFO Starting job - generate_rattled (3907d69f-4a17-4492-a6e2-befcb125c446)\n",
      "[Structure Summary\n",
      "Lattice\n",
      "    abc : 3.84 3.8399999999999994 3.84\n",
      " angles : 119.99999999999999 90.0 60.00000000000001\n",
      " volume : 40.038580810231124\n",
      "      A : np.float64(3.84) np.float64(0.0) np.float64(2.351321854362918e-16)\n",
      "      B : np.float64(1.92) np.float64(2.7152900397563426) np.float64(-1.919999999999999)\n",
      "      C : np.float64(0.0) np.float64(0.0) np.float64(3.84)\n",
      "    pbc : True True True\n",
      "PeriodicSite: Si (1.901, 0.896, 0.6336) [0.33, 0.33, 0.33]\n",
      "PeriodicSite: Si (3.84, 1.358, 1.92) [0.75, 0.5, 0.75], Structure Summary\n",
      "Lattice\n",
      "    abc : 3.84 3.8399999999999994 3.84\n",
      " angles : 119.99999999999999 90.0 60.00000000000001\n",
      " volume : 40.038580810231124\n",
      "      A : np.float64(3.84) np.float64(0.0) np.float64(2.351321854362918e-16)\n",
      "      B : np.float64(1.92) np.float64(2.7152900397563426) np.float64(-1.919999999999999)\n",
      "      C : np.float64(0.0) np.float64(0.0) np.float64(3.84)\n",
      "    pbc : True True True\n",
      "PeriodicSite: Si (1.901, 0.896, 0.6336) [0.33, 0.33, 0.33]\n",
      "PeriodicSite: Si (3.84, 1.358, 1.92) [0.75, 0.5, 0.75]]\n",
      "2025-01-21 12:18:32,436 INFO Finished job - generate_rattled (3907d69f-4a17-4492-a6e2-befcb125c446)\n",
      "2025-01-21 12:18:32,437 INFO Task completed: {{jobflow.managers.fireworks.JobFiretask}}\n",
      "2025-01-21 12:18:32,459 INFO Rocket finished\n"
     ]
    },
    {
     "data": {
      "text/plain": [
       "True"
      ]
     },
     "execution_count": 89,
     "metadata": {},
     "output_type": "execute_result"
    }
   ],
   "source": [
    "# Launch locally\n",
    "launch_rocket(mlff_lpad, fw_id=20)"
   ]
  },
  {
   "cell_type": "code",
   "execution_count": 90,
   "id": "8e983190-9f15-434f-8767-4e3382325e23",
   "metadata": {},
   "outputs": [
    {
     "name": "stdout",
     "output_type": "stream",
     "text": [
      "2025-01-21 12:18:41,678 INFO Launching Rocket\n",
      "2025-01-21 12:18:41,704 INFO RUNNING fw_id: 19 in directory: /global/cfs/cdirs/m4537/bfune/mlff_runs/1_21/fws_run_2\n",
      "2025-01-21 12:18:41,714 INFO Task started: {{jobflow.managers.fireworks.JobFiretask}}.\n",
      "2025-01-21 12:18:41,715 INFO Starting job - run_scf_job (6a72d338-6d1e-4c63-b39f-0994e29c1619)\n",
      "2025-01-21 12:18:42,100 INFO Finished job - run_scf_job (6a72d338-6d1e-4c63-b39f-0994e29c1619)\n",
      "2025-01-21 12:18:42,109 INFO Task completed: {{jobflow.managers.fireworks.JobFiretask}}\n",
      "2025-01-21 12:18:42,177 INFO Rocket finished\n"
     ]
    },
    {
     "data": {
      "text/plain": [
       "True"
      ]
     },
     "execution_count": 90,
     "metadata": {},
     "output_type": "execute_result"
    }
   ],
   "source": [
    "# Launch locally\n",
    "launch_rocket(mlff_lpad, fw_id=19)"
   ]
  },
  {
   "cell_type": "code",
   "execution_count": 34,
   "id": "4c51b305-ba8c-4e1d-9b22-5c2039f5cadb",
   "metadata": {
    "tags": []
   },
   "outputs": [
    {
     "name": "stdout",
     "output_type": "stream",
     "text": [
      "Refreshed Firework IDs: set()\n"
     ]
    }
   ],
   "source": [
    "# Run after RUN has ran\n",
    "# Dynamically determine how many times to run rapidfire\n",
    "updated_ids = mlff_wf.refresh(run_fw_id)\n",
    "print(f\"Refreshed Firework IDs: {updated_ids}\")\n"
   ]
  },
  {
   "cell_type": "code",
   "execution_count": 22,
   "id": "5e8c5341-60a4-47c1-ac0d-5ba0faf8f28e",
   "metadata": {
    "tags": []
   },
   "outputs": [
    {
     "name": "stdout",
     "output_type": "stream",
     "text": [
      "Refreshed Firework IDs: 0\n"
     ]
    }
   ],
   "source": [
    "print(f\"Refreshed Firework IDs: {len(updated_ids)}\")\n"
   ]
  },
  {
   "cell_type": "code",
   "execution_count": 40,
   "id": "303f2773-6fd8-4be7-9c20-2911b5e1663c",
   "metadata": {},
   "outputs": [
    {
     "data": {
      "text/plain": [
       "{11: [10], 10: [9], 9: []}"
      ]
     },
     "execution_count": 40,
     "metadata": {},
     "output_type": "execute_result"
    }
   ],
   "source": [
    "mlff_wf.links"
   ]
  },
  {
   "cell_type": "code",
   "execution_count": 55,
   "id": "45d4bf9e-292b-4327-b771-2d0106615223",
   "metadata": {},
   "outputs": [
    {
     "data": {
      "text/plain": [
       "[1, 8, 9]"
      ]
     },
     "execution_count": 55,
     "metadata": {},
     "output_type": "execute_result"
    }
   ],
   "source": [
    "mlff_lpad.get_wf_summary_dict"
   ]
  },
  {
   "cell_type": "code",
   "execution_count": 23,
   "id": "fe1559ac-c82f-4c38-b3e2-501b344e9f9e",
   "metadata": {
    "tags": []
   },
   "outputs": [
    {
     "name": "stdout",
     "output_type": "stream",
     "text": [
      "# TODO: once Ricardo finishes generate_rattled implementation, dynamically determine how many jobs to submit to queue with mlff_fw_id_map and mock_max_structures\n",
      "In development, should be 1 static job submitted to queue.\n",
      "In production, should be max_structures static job(s) submitted to queue\n",
      "mlff_fw_id_map is {-3: 1, -2: 2, -1: 3}\n",
      "mock_max_structures is 3\n"
     ]
    }
   ],
   "source": [
    "print(\"# TODO: once Ricardo finishes generate_rattled implementation, dynamically determine how many jobs to submit to queue with mlff_fw_id_map and mock_max_structures\")\n",
    "print(\"In development, should be 1 static job submitted to queue.\")\n",
    "print(\"In production, should be max_structures static job(s) submitted to queue\")\n",
    "print(f\"mlff_fw_id_map is {mlff_fw_id_map}\")\n",
    "print(f\"mock_max_structures is {mock_max_structures}\")"
   ]
  },
  {
   "cell_type": "code",
   "execution_count": 26,
   "id": "f0c69c2e-d562-4bdc-83a3-aba54f5d619d",
   "metadata": {
    "tags": []
   },
   "outputs": [
    {
     "name": "stdout",
     "output_type": "stream",
     "text": [
      "2025-01-12 19:11:19,139 DEBUG getting queue adapter\n",
      "2025-01-12 19:11:19,149 DEBUG finding a FW to reserve...\n",
      "2025-01-12 19:11:19,180 INFO reserved FW with fw_id: 5\n",
      "2025-01-12 19:11:19,181 INFO moving to launch_dir /global/cfs/cdirs/m4537/bfune/mlff_runs/1_12/whole_fireworks_wf\n",
      "2025-01-12 19:11:19,182 DEBUG writing queue script\n",
      "2025-01-12 19:11:19,184 INFO submitting queue script\n"
     ]
    },
    {
     "data": {
      "text/plain": [
       "'34801874'"
      ]
     },
     "execution_count": 26,
     "metadata": {},
     "output_type": "execute_result"
    }
   ],
   "source": [
    "# Submit job to queue\n",
    "launch_rocket_to_queue(\n",
    "    mlff_lpad,\n",
    "    mlff_fworker,\n",
    "    mlff_qadapter,\n",
    "    reserve=True,\n",
    "    launcher_dir=calc_dir,\n",
    "    strm_lvl=\"DEBUG\",\n",
    "    fw_id=5) # TODO: dynamically determine value, right now, there should only be 1 static job to submit to queue"
   ]
  },
  {
   "cell_type": "markdown",
   "id": "c3b6d408-d07e-4694-8645-f2144d32b891",
   "metadata": {
    "tags": []
   },
   "source": [
    "## Deactivate custodian tests in MLForceFieldMaker"
   ]
  },
  {
   "cell_type": "code",
   "execution_count": 6,
   "id": "88cb76da-aaa7-475a-b250-5977e3f3b1b5",
   "metadata": {
    "tags": []
   },
   "outputs": [],
   "source": [
    "from atomate2.vasp.jobs.base import BaseVaspMaker\n",
    "from jobflow.utils import ValueEnum"
   ]
  },
  {
   "cell_type": "code",
   "execution_count": 21,
   "id": "1513c58f-efb2-4bb7-a96d-bb861e4769ec",
   "metadata": {},
   "outputs": [],
   "source": [
    "test_base_maker = BaseVaspMaker(run_vasp_kwargs={\"job_type\": \"direct\"})"
   ]
  },
  {
   "cell_type": "code",
   "execution_count": 19,
   "id": "532f1257-2d75-4351-a4cf-9bcb9aa18b00",
   "metadata": {
    "tags": []
   },
   "outputs": [],
   "source": [
    "test_base_job = test_base_maker.as_dict"
   ]
  },
  {
   "cell_type": "code",
   "execution_count": 20,
   "id": "e375b6f0-362c-4c72-a2c3-f341e467171b",
   "metadata": {
    "tags": []
   },
   "outputs": [
    {
     "data": {
      "text/plain": [
       "<bound method MSONable.as_dict of BaseVaspMaker(name='base vasp job', input_set_generator=VaspInputGenerator(structure=None, config_dict={'PARENT': 'VASPIncarBase', 'INCAR': {'ALGO': 'Fast', 'EDIFF': 1e-05, 'EDIFFG': -0.02, 'ENAUG': 1360, 'ENCUT': 680, 'IBRION': 2, 'ISIF': 3, 'ISMEAR': 0, 'ISPIN': 2, 'LAECHG': True, 'LASPH': True, 'LCHARG': True, 'LELF': False, 'LMIXTAU': True, 'LORBIT': 11, 'LREAL': False, 'LVTOT': True, 'LWAVE': False, 'NELM': 200, 'NSW': 99, 'PREC': 'Accurate', 'SIGMA': 0.05, 'MAGMOM': {'Ce': 5, 'Ce3+': 1, 'Co': 0.6, 'Co3+': 0.6, 'Co4+': 1, 'Cr': 5, 'Dy3+': 5, 'Er3+': 3, 'Eu': 10, 'Eu2+': 7, 'Eu3+': 6, 'Fe': 5, 'Gd3+': 7, 'Ho3+': 4, 'La3+': 0.6, 'Lu3+': 0.6, 'Mn': 5, 'Mn3+': 4, 'Mn4+': 3, 'Mo': 5, 'Nd3+': 3, 'Ni': 5, 'Pm3+': 4, 'Pr3+': 2, 'Sm3+': 5, 'Tb3+': 6, 'Tm3+': 2, 'V': 5, 'W': 5, 'Yb3+': 1}, 'GGA': 'PS', 'LDAU': True, 'LDAUJ': {'F': {'Co': 0, 'Cr': 0, 'Fe': 0, 'Mn': 0, 'Mo': 0, 'Ni': 0, 'V': 0, 'W': 0}, 'O': {'Co': 0, 'Cr': 0, 'Fe': 0, 'Mn': 0, 'Mo': 0, 'Ni': 0, 'V': 0, 'W': 0}}, 'LDAUL': {'F': {'Co': 2, 'Cr': 2, 'Fe': 2, 'Mn': 2, 'Mo': 2, 'Ni': 2, 'V': 2, 'W': 2}, 'O': {'Co': 2, 'Cr': 2, 'Fe': 2, 'Mn': 2, 'Mo': 2, 'Ni': 2, 'V': 2, 'W': 2}}, 'LDAUTYPE': 2, 'LDAUU': {'F': {'Co': 3.32, 'Cr': 3.7, 'Fe': 5.3, 'Mn': 3.9, 'Mo': 4.38, 'Ni': 6.2, 'V': 3.25, 'W': 6.2}, 'O': {'Co': 3.32, 'Cr': 3.7, 'Fe': 5.3, 'Mn': 3.9, 'Mo': 4.38, 'Ni': 6.2, 'V': 3.25, 'W': 6.2}}, 'LDAUPRINT': 1}, 'POTCAR_FUNCTIONAL': 'PBE_54', 'POTCAR': {'Ac': 'Ac', 'Ag': 'Ag', 'Al': 'Al', 'Am': 'Am', 'Ar': 'Ar', 'As': 'As', 'At': 'At', 'Au': 'Au', 'B': 'B', 'Ba': 'Ba_sv', 'Be': 'Be', 'Bi': 'Bi_d', 'Br': 'Br', 'C': 'C', 'Ca': 'Ca_sv', 'Cd': 'Cd', 'Ce': 'Ce', 'Cf': 'Cf', 'Cl': 'Cl', 'Cm': 'Cm', 'Co': 'Co', 'Cr': 'Cr_pv', 'Cs': 'Cs_sv', 'Cu': 'Cu', 'Dy': 'Dy_3', 'Er': 'Er_3', 'Eu': 'Eu_2', 'F': 'F', 'Fe': 'Fe', 'Fr': 'Fr_sv', 'Ga': 'Ga_d', 'Gd': 'Gd_3', 'Ge': 'Ge_d', 'H': 'H', 'He': 'He', 'Hf': 'Hf_pv', 'Hg': 'Hg', 'Ho': 'Ho_3', 'I': 'I', 'In': 'In_d', 'Ir': 'Ir', 'K': 'K_sv', 'Kr': 'Kr', 'La': 'La', 'Li': 'Li_sv', 'Lu': 'Lu_3', 'Mg': 'Mg', 'Mn': 'Mn_pv', 'Mo': 'Mo_sv', 'N': 'N', 'Na': 'Na_pv', 'Nb': 'Nb_sv', 'Nd': 'Nd_3', 'Ne': 'Ne', 'Ni': 'Ni', 'Np': 'Np', 'O': 'O', 'Os': 'Os', 'P': 'P', 'Pa': 'Pa', 'Pb': 'Pb_d', 'Pd': 'Pd', 'Pm': 'Pm_3', 'Po': 'Po_d', 'Pr': 'Pr_3', 'Pt': 'Pt', 'Pu': 'Pu', 'Ra': 'Ra_sv', 'Rb': 'Rb_sv', 'Re': 'Re', 'Rh': 'Rh_pv', 'Rn': 'Rn', 'Ru': 'Ru_pv', 'S': 'S', 'Sb': 'Sb', 'Sc': 'Sc_sv', 'Se': 'Se', 'Si': 'Si', 'Sm': 'Sm_3', 'Sn': 'Sn_d', 'Sr': 'Sr_sv', 'Ta': 'Ta_pv', 'Tb': 'Tb_3', 'Tc': 'Tc_pv', 'Te': 'Te', 'Th': 'Th', 'Ti': 'Ti_sv', 'Tl': 'Tl_d', 'Tm': 'Tm_3', 'U': 'U', 'V': 'V_sv', 'W': 'W_sv', 'Xe': 'Xe', 'Y': 'Y_sv', 'Yb': 'Yb_3', 'Zn': 'Zn', 'Zr': 'Zr_sv'}, 'KPOINTS': {'reciprocal_density': 64, 'reciprocal_density_metal': 200}}, files_to_transfer={}, user_incar_settings={}, user_kpoints_settings={}, user_potcar_settings={}, constrain_total_magmom=False, sort_structure=True, user_potcar_functional='PBE_54', force_gamma=True, reduce_structure=None, vdw=None, use_structure_charge=False, standardize=False, sym_prec=0.1, international_monoclinic=True, validate_magmom=True, inherit_incar=False, auto_kspacing=False, auto_ismear=True, auto_ispin=False, auto_lreal=False, auto_metal_kpoints=True, bandgap_tol=0.0001, bandgap=None, prev_incar=None, prev_kpoints=None, _valid_potcars=None), write_input_set_kwargs={}, copy_vasp_kwargs={}, run_vasp_kwargs={'jofb_type': 'direct'}, task_document_kwargs={}, stop_children_kwargs={}, write_additional_data={})>"
      ]
     },
     "execution_count": 20,
     "metadata": {},
     "output_type": "execute_result"
    }
   ],
   "source": [
    "test_base_job"
   ]
  },
  {
   "cell_type": "markdown",
   "id": "8a8e0e82-1950-49d6-981f-4f5a160f8282",
   "metadata": {
    "tags": []
   },
   "source": [
    "## Unit tests "
   ]
  },
  {
   "cell_type": "markdown",
   "id": "881c41e6-b726-4e9e-aeb9-ed26a5e4db99",
   "metadata": {
    "jp-MarkdownHeadingCollapsed": true,
    "tags": []
   },
   "source": [
    "TODO"
   ]
  }
 ],
 "metadata": {
  "kernelspec": {
   "display_name": "atomate2",
   "language": "python",
   "name": "atomate2"
  },
  "language_info": {
   "codemirror_mode": {
    "name": "ipython",
    "version": 3
   },
   "file_extension": ".py",
   "mimetype": "text/x-python",
   "name": "python",
   "nbconvert_exporter": "python",
   "pygments_lexer": "ipython3",
   "version": "3.10.15"
  }
 },
 "nbformat": 4,
 "nbformat_minor": 5
}
